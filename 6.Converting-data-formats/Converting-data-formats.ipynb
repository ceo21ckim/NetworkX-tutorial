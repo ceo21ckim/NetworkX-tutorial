{
 "cells": [
  {
   "cell_type": "markdown",
   "metadata": {},
   "source": [
    "## Converting to and from other data formats\n",
    "\n",
    "- `to_networkx_graph`(data[, create_using, ...]): Make a NetworkX graph from a known data structure.\n",
    "- `to_dict_of_dicts`(G[, nodelist, edge_data]): Returns adjacency representation of graph as a dictionary of dictionaries."
   ]
  },
  {
   "cell_type": "code",
   "execution_count": 1,
   "metadata": {},
   "outputs": [],
   "source": [
    "import networkx as nx \n",
    "\n",
    "d = {0: {1: 1}} # dict-of-dicts single edge (0, 1)\n",
    "G = nx.Graph(d)"
   ]
  },
  {
   "cell_type": "code",
   "execution_count": 6,
   "metadata": {},
   "outputs": [
    {
     "data": {
      "text/plain": [
       "{0: {1: {'weight': 1.0}, 2: {'weight': 1.0}},\n",
       " 1: {0: {'weight': 1.0}, 2: {'weight': 2.0}},\n",
       " 2: {1: {'weight': 2.0}, 0: {'weight': 1.0}}}"
      ]
     },
     "execution_count": 6,
     "metadata": {},
     "output_type": "execute_result"
    }
   ],
   "source": [
    "# to_dict_of_dicts\n",
    "G = nx.Graph()\n",
    "G.add_edges_from(\n",
    "    [\n",
    "        (0, 1, {'weight': 1.0}),\n",
    "        (1, 2, {'weight': 2.0}),\n",
    "        (2, 0, {'weight': 1.0}),\n",
    "    ]\n",
    ")\n",
    "d = nx.to_dict_of_dicts(G)\n",
    "d  "
   ]
  },
  {
   "cell_type": "code",
   "execution_count": 7,
   "metadata": {},
   "outputs": [
    {
     "data": {
      "text/plain": [
       "{0: {1: 1, 2: 1}, 1: {0: 1, 2: 1}, 2: {1: 1, 0: 1}}"
      ]
     },
     "execution_count": 7,
     "metadata": {},
     "output_type": "execute_result"
    }
   ],
   "source": [
    "d = nx.to_dict_of_dicts(G, edge_data=1)\n",
    "d"
   ]
  },
  {
   "cell_type": "code",
   "execution_count": 8,
   "metadata": {},
   "outputs": [
    {
     "data": {
      "text/plain": [
       "{0: {1: {'a': {'weight': 1.0}, 'b': {'weight': 5.0}}},\n",
       " 1: {0: {'a': {'weight': 1.0}, 'b': {'weight': 5.0}}}}"
      ]
     },
     "execution_count": 8,
     "metadata": {},
     "output_type": "execute_result"
    }
   ],
   "source": [
    "\n",
    "G = nx.MultiGraph()\n",
    "G.add_edge(0, 1, key='a', weight=1.0)\n",
    "G.add_edge(0, 1, key='b', weight=5.0)\n",
    "d = nx.to_dict_of_dicts(G)\n",
    "d  "
   ]
  },
  {
   "cell_type": "code",
   "execution_count": 9,
   "metadata": {},
   "outputs": [
    {
     "data": {
      "text/plain": [
       "5.0"
      ]
     },
     "execution_count": 9,
     "metadata": {},
     "output_type": "execute_result"
    }
   ],
   "source": [
    "d[0][1]['b']['weight']"
   ]
  },
  {
   "cell_type": "code",
   "execution_count": 10,
   "metadata": {},
   "outputs": [
    {
     "data": {
      "text/plain": [
       "{0: {1: 10}, 1: {0: 10}}"
      ]
     },
     "execution_count": 10,
     "metadata": {},
     "output_type": "execute_result"
    }
   ],
   "source": [
    "d = nx.to_dict_of_dicts(G, edge_data=10)\n",
    "d"
   ]
  },
  {
   "cell_type": "markdown",
   "metadata": {},
   "source": [
    "- `from_dict_of_dict`(d[, create_using, ...]): Returns a graph from a dictionary of dictionaries."
   ]
  },
  {
   "cell_type": "code",
   "execution_count": 11,
   "metadata": {},
   "outputs": [],
   "source": [
    "# from_dict_of_dicts \n",
    "\n",
    "dod = {0: {1:{'weight':1}}}\n",
    "G = nx.from_dict_of_dicts(dod)"
   ]
  },
  {
   "cell_type": "markdown",
   "metadata": {},
   "source": [
    "## List \n",
    "\n",
    "- `to_dict_of_list`(G[, nodelist]): Returns adjacency representation of graph as a dictionary of lists.\n",
    "- `from_dict_of_list`(d[, create_using]): Returns a graph from a dictionary of lists.\n",
    "- `to_edgelist`(G[, nodelist]): Returns a list of edges in the graph.\n",
    "- `from_edgelist`(edgelist[, create_using]): Returns a graph from a list of edges. "
   ]
  },
  {
   "cell_type": "markdown",
   "metadata": {},
   "source": [
    "## Numpy \n",
    "\n",
    "- `to_numpy_matrix`(G[, nodelist, dtype, order, ...]): Returns the graph adjacency matrix as a NumPy matrix. "
   ]
  },
  {
   "cell_type": "code",
   "execution_count": 12,
   "metadata": {},
   "outputs": [
    {
     "data": {
      "text/plain": [
       "matrix([[1.]])"
      ]
     },
     "execution_count": 12,
     "metadata": {},
     "output_type": "execute_result"
    }
   ],
   "source": [
    "# to numpy matrix \n",
    "\n",
    "import numpy as np \n",
    "G = nx.Graph([(1, 1)])\n",
    "A = nx.to_numpy_matrix(G)\n",
    "A "
   ]
  },
  {
   "cell_type": "code",
   "execution_count": 13,
   "metadata": {},
   "outputs": [
    {
     "data": {
      "text/plain": [
       "matrix([[2.]])"
      ]
     },
     "execution_count": 13,
     "metadata": {},
     "output_type": "execute_result"
    }
   ],
   "source": [
    "A[np.diag_indices_from(A)] *= 2\n",
    "A "
   ]
  },
  {
   "cell_type": "code",
   "execution_count": 14,
   "metadata": {},
   "outputs": [
    {
     "data": {
      "text/plain": [
       "matrix([[0., 2., 0.],\n",
       "        [1., 0., 0.],\n",
       "        [0., 0., 4.]])"
      ]
     },
     "execution_count": 14,
     "metadata": {},
     "output_type": "execute_result"
    }
   ],
   "source": [
    "G = nx.MultiDiGraph()\n",
    "G.add_edge(0, 1, weight=2)\n",
    "G.add_edge(1, 0)\n",
    "G.add_edge(2, 2, weight=3)\n",
    "G.add_edge(2, 2)\n",
    "\n",
    "nx.to_numpy_matrix(G, nodelist=[0, 1, 2])\n"
   ]
  },
  {
   "cell_type": "markdown",
   "metadata": {},
   "source": [
    "- `to_numpy_array`(G[, nodelist, dtype, order, ...]): Returns the graph adjacency matrix as a NumPy array."
   ]
  },
  {
   "cell_type": "code",
   "execution_count": 15,
   "metadata": {},
   "outputs": [
    {
     "data": {
      "text/plain": [
       "array([[1.]])"
      ]
     },
     "execution_count": 15,
     "metadata": {},
     "output_type": "execute_result"
    }
   ],
   "source": [
    "# to_numpy_array \n",
    "\n",
    "import numpy as np \n",
    "G = nx.Graph([(1, 1)])\n",
    "A = nx.to_numpy_array(G)\n",
    "A "
   ]
  },
  {
   "cell_type": "code",
   "execution_count": 17,
   "metadata": {},
   "outputs": [
    {
     "data": {
      "text/plain": [
       "array([[2.]])"
      ]
     },
     "execution_count": 17,
     "metadata": {},
     "output_type": "execute_result"
    }
   ],
   "source": [
    "A[np.diag_indices_from(A)] *= 2\n",
    "A"
   ]
  },
  {
   "cell_type": "code",
   "execution_count": 18,
   "metadata": {},
   "outputs": [
    {
     "data": {
      "text/plain": [
       "array([[0., 2., 0.],\n",
       "       [1., 0., 0.],\n",
       "       [0., 0., 4.]])"
      ]
     },
     "execution_count": 18,
     "metadata": {},
     "output_type": "execute_result"
    }
   ],
   "source": [
    "G = nx.MultiDiGraph()\n",
    "G.add_edge(0, 1, weight=2)\n",
    "G.add_edge(1, 0)\n",
    "G.add_edge(2, 2, weight=3)\n",
    "G.add_edge(2, 2)\n",
    "\n",
    "nx.to_numpy_array(G, nodelist=[0, 1, 2])"
   ]
  },
  {
   "cell_type": "code",
   "execution_count": 19,
   "metadata": {},
   "outputs": [
    {
     "data": {
      "text/plain": [
       "array([[0., 1., 1.],\n",
       "       [1., 0., 0.],\n",
       "       [1., 0., 0.]])"
      ]
     },
     "execution_count": 19,
     "metadata": {},
     "output_type": "execute_result"
    }
   ],
   "source": [
    "G = nx.Graph()\n",
    "G.add_edge(3, 1)\n",
    "G.add_edge(2, 0)\n",
    "G.add_edge(2, 1)\n",
    "G.add_edge(3, 0)\n",
    "nx.to_numpy_array(G, nodelist=[1, 2, 3])"
   ]
  },
  {
   "cell_type": "code",
   "execution_count": 20,
   "metadata": {},
   "outputs": [
    {
     "data": {
      "text/plain": [
       "array([[ 0, 10,  0,  0],\n",
       "       [10,  0,  1,  0],\n",
       "       [ 0,  1,  0,  3],\n",
       "       [ 0,  0,  3,  0]])"
      ]
     },
     "execution_count": 20,
     "metadata": {},
     "output_type": "execute_result"
    }
   ],
   "source": [
    "G = nx.Graph()\n",
    "G.add_edge(0, 1, weight=10)\n",
    "G.add_edge(1, 2, cost=5)\n",
    "G.add_edge(2, 3, weight=3, cost=-4.0)\n",
    "dtype = np.dtype([(\"weight\", int), (\"cost\", float)])\n",
    "A = nx.to_numpy_array(G, dtype=dtype, weight=None)\n",
    "A[\"weight\"]"
   ]
  },
  {
   "cell_type": "code",
   "execution_count": 21,
   "metadata": {},
   "outputs": [
    {
     "data": {
      "text/plain": [
       "array([[-1.,  2., -1.,  1.],\n",
       "       [ 2., -1.,  0., -1.],\n",
       "       [-1.,  0., -1.,  0.],\n",
       "       [ 1., -1.,  0., -1.]])"
      ]
     },
     "execution_count": 21,
     "metadata": {},
     "output_type": "execute_result"
    }
   ],
   "source": [
    "G = nx.Graph()\n",
    "G.add_edge(3, 1, weight=2)\n",
    "G.add_edge(2, 0, weight=0)\n",
    "G.add_edge(2, 1, weight=0)\n",
    "G.add_edge(3, 0, weight=1)\n",
    "nx.to_numpy_array(G, nonedge=-1.)"
   ]
  },
  {
   "cell_type": "markdown",
   "metadata": {},
   "source": [
    "- `to_numpy_recarray`(G[, nodelist, dtype, order]): Returns the graph adjacency matrix as a NumPy recarray."
   ]
  },
  {
   "cell_type": "code",
   "execution_count": 22,
   "metadata": {},
   "outputs": [
    {
     "name": "stdout",
     "output_type": "stream",
     "text": [
      "[[0. 7.]\n",
      " [7. 0.]]\n"
     ]
    }
   ],
   "source": [
    "# to_numpy_recarray\n",
    "\n",
    "G = nx.Graph()\n",
    "G.add_edge(1, 2, weight=7.0, cost=5)\n",
    "A = nx.to_numpy_recarray(G, dtype=[('weight', float), ('cost', int)])\n",
    "print(A.weight)"
   ]
  },
  {
   "cell_type": "markdown",
   "metadata": {},
   "source": [
    "- `from_numpy_matrix`(A[, parallel_edges, ...]): Returns a graph from numpy matrix."
   ]
  },
  {
   "cell_type": "code",
   "execution_count": 23,
   "metadata": {},
   "outputs": [],
   "source": [
    "# from_numpy_matrix \n",
    "A = np.array([[1, 1], [2, 1]])\n",
    "G = nx.from_numpy_matrix(A)"
   ]
  },
  {
   "cell_type": "code",
   "execution_count": 24,
   "metadata": {},
   "outputs": [
    {
     "data": {
      "text/plain": [
       "AtlasView({0: {'weight': 2}})"
      ]
     },
     "execution_count": 24,
     "metadata": {},
     "output_type": "execute_result"
    }
   ],
   "source": [
    "A = np.array([[1, 1], [1, 2]])\n",
    "G = nx.from_numpy_matrix(A, create_using=nx.MultiGraph)\n",
    "G[1][1]"
   ]
  },
  {
   "cell_type": "code",
   "execution_count": 25,
   "metadata": {},
   "outputs": [
    {
     "data": {
      "text/plain": [
       "AtlasView({0: {'weight': 1}, 1: {'weight': 1}})"
      ]
     },
     "execution_count": 25,
     "metadata": {},
     "output_type": "execute_result"
    }
   ],
   "source": [
    "A = np.array([[1, 1], [1, 2]])\n",
    "temp = nx.MultiGraph()\n",
    "G = nx.from_numpy_matrix(A, parallel_edges=True, create_using=temp)\n",
    "G[1][1]"
   ]
  },
  {
   "cell_type": "code",
   "execution_count": 26,
   "metadata": {},
   "outputs": [
    {
     "data": {
      "text/plain": [
       "1.0"
      ]
     },
     "execution_count": 26,
     "metadata": {},
     "output_type": "execute_result"
    }
   ],
   "source": [
    "dt = [('weight', float), ('cost', int)]\n",
    "A = np.array([[(1.0, 2)]], dtype=dt)\n",
    "G = nx.from_numpy_matrix(A)\n",
    "list(G.edges()) # [(0,0)]\n",
    "\n",
    "G[0][0]['cost'] # 2\n",
    "\n",
    "G[0][0]['weight'] # 1.0"
   ]
  },
  {
   "cell_type": "markdown",
   "metadata": {},
   "source": [
    "\n",
    "- `from_numpy_array`(A[, parallel_edges, ...]): Returns a graph from a 2D NumPy array."
   ]
  },
  {
   "cell_type": "code",
   "execution_count": 27,
   "metadata": {},
   "outputs": [
    {
     "data": {
      "text/plain": [
       "EdgeDataView([(0, 0, {'weight': 1}), (0, 1, {'weight': 2}), (1, 1, {'weight': 1})])"
      ]
     },
     "execution_count": 27,
     "metadata": {},
     "output_type": "execute_result"
    }
   ],
   "source": [
    "# from_numpy_array\n",
    "A = np.array([[1, 1], [2, 1]])\n",
    "G = nx.from_numpy_array(A)\n",
    "G.edges(data=True)"
   ]
  },
  {
   "cell_type": "code",
   "execution_count": 28,
   "metadata": {},
   "outputs": [
    {
     "data": {
      "text/plain": [
       "AtlasView({0: {'weight': 2}})"
      ]
     },
     "execution_count": 28,
     "metadata": {},
     "output_type": "execute_result"
    }
   ],
   "source": [
    "A = np.array([[1, 1], [1, 2]])\n",
    "G = nx.from_numpy_array(A, create_using=nx.MultiGraph)\n",
    "G[1][1]"
   ]
  },
  {
   "cell_type": "code",
   "execution_count": 29,
   "metadata": {},
   "outputs": [
    {
     "data": {
      "text/plain": [
       "AtlasView({0: {'weight': 1}, 1: {'weight': 1}})"
      ]
     },
     "execution_count": 29,
     "metadata": {},
     "output_type": "execute_result"
    }
   ],
   "source": [
    "A = np.array([[1, 1], [1, 2]])\n",
    "temp = nx.MultiGraph()\n",
    "G = nx.from_numpy_array(A, parallel_edges=True, create_using=temp)\n",
    "G[1][1]"
   ]
  },
  {
   "cell_type": "code",
   "execution_count": 30,
   "metadata": {},
   "outputs": [
    {
     "data": {
      "text/plain": [
       "1.0"
      ]
     },
     "execution_count": 30,
     "metadata": {},
     "output_type": "execute_result"
    }
   ],
   "source": [
    "dt = [('weight', float), ('cost', int)]\n",
    "A = np.array([[(1.0, 2)]], dtype=dt)\n",
    "G = nx.from_numpy_array(A)\n",
    "G.edges() # EdgeView([(0, 0)])\n",
    "\n",
    "G[0][0]['cost'] # 2\n",
    "\n",
    "G[0][0]['weight'] # 1.0"
   ]
  },
  {
   "cell_type": "markdown",
   "metadata": {},
   "source": [
    "## Scipy\n",
    "\n",
    "- `to_scipy_sparse_array`(G[, nodelist, dtype, ...]): Returns the graph adjacency matrix as a SciPy sparse array."
   ]
  },
  {
   "cell_type": "code",
   "execution_count": 32,
   "metadata": {},
   "outputs": [
    {
     "name": "stdout",
     "output_type": "stream",
     "text": [
      "[[1]]\n",
      "[[2]]\n"
     ]
    }
   ],
   "source": [
    "# to_scipy_sparse_array\n",
    "G = nx.Graph([(1, 1)])\n",
    "A = nx.to_scipy_sparse_array(G)\n",
    "print(A.todense())\n",
    "\n",
    "A.setdiag(A.diagonal() * 2)\n",
    "print(A.toarray())"
   ]
  },
  {
   "cell_type": "code",
   "execution_count": 35,
   "metadata": {},
   "outputs": [
    {
     "data": {
      "text/plain": [
       "array([[0, 2, 0],\n",
       "       [1, 0, 0],\n",
       "       [0, 0, 4]], dtype=int32)"
      ]
     },
     "execution_count": 35,
     "metadata": {},
     "output_type": "execute_result"
    }
   ],
   "source": [
    "G = nx.MultiDiGraph()\n",
    "G.add_edge(0, 1, weight=2)\n",
    "G.add_edge(1, 0)\n",
    "G.add_edge(2, 2, weight=3)\n",
    "G.add_edge(2, 2)\n",
    "\n",
    "S = nx.to_scipy_sparse_array(G, nodelist=[0, 1, 2])\n",
    "S.todense()"
   ]
  },
  {
   "cell_type": "markdown",
   "metadata": {},
   "source": [
    "- `to_scipy_sparse_matrix`(G[, nodelist, dtype, ...]): Returns the graph adjacency matrix as a SciPy sparse matrix.\n",
    "- `from_scipy_sparse_matrix`(A[, ...]): Creates a new graph from an adjacency matrix given as a SciPy sparse matrix.\n",
    "- `from_scipy_sparse_array`(A[, parallel_edges, ...]): Creates a new graph from an adjacency matrix given as a SciPy sparse array."
   ]
  },
  {
   "cell_type": "code",
   "execution_count": 36,
   "metadata": {},
   "outputs": [
    {
     "name": "stdout",
     "output_type": "stream",
     "text": [
      "[[0 2 0]\n",
      " [1 0 0]\n",
      " [0 0 4]]\n"
     ]
    },
    {
     "name": "stderr",
     "output_type": "stream",
     "text": [
      "C:\\Users\\EonKim\\AppData\\Local\\Temp\\ipykernel_18736\\3025828366.py:8: DeprecationWarning: \n",
      "\n",
      "The scipy.sparse array containers will be used instead of matrices\n",
      "in Networkx 3.0. Use `to_scipy_sparse_array` instead.\n",
      "  S = nx.to_scipy_sparse_matrix(G, nodelist=[0, 1, 2])\n"
     ]
    }
   ],
   "source": [
    "# to_scipy_sprse_matrix\n",
    "G = nx.MultiDiGraph()\n",
    "G.add_edge(0, 1, weight=2)\n",
    "G.add_edge(1, 0)\n",
    "G.add_edge(2, 2, weight=3)\n",
    "G.add_edge(2, 2)\n",
    "\n",
    "S = nx.to_scipy_sparse_matrix(G, nodelist=[0, 1, 2])\n",
    "print(S.todense())"
   ]
  },
  {
   "cell_type": "markdown",
   "metadata": {},
   "source": [
    "\n",
    "## Pandas\n",
    "\n",
    "- `to_pandas_adjacency`(G[, nodelist, dtype, ...]): Returns the graph adjacency matrix as a Pandas DataFrame."
   ]
  },
  {
   "cell_type": "code",
   "execution_count": 37,
   "metadata": {},
   "outputs": [
    {
     "data": {
      "text/html": [
       "<div>\n",
       "<style scoped>\n",
       "    .dataframe tbody tr th:only-of-type {\n",
       "        vertical-align: middle;\n",
       "    }\n",
       "\n",
       "    .dataframe tbody tr th {\n",
       "        vertical-align: top;\n",
       "    }\n",
       "\n",
       "    .dataframe thead th {\n",
       "        text-align: right;\n",
       "    }\n",
       "</style>\n",
       "<table border=\"1\" class=\"dataframe\">\n",
       "  <thead>\n",
       "    <tr style=\"text-align: right;\">\n",
       "      <th></th>\n",
       "      <th>1</th>\n",
       "    </tr>\n",
       "  </thead>\n",
       "  <tbody>\n",
       "    <tr>\n",
       "      <th>1</th>\n",
       "      <td>1</td>\n",
       "    </tr>\n",
       "  </tbody>\n",
       "</table>\n",
       "</div>"
      ],
      "text/plain": [
       "   1\n",
       "1  1"
      ]
     },
     "execution_count": 37,
     "metadata": {},
     "output_type": "execute_result"
    }
   ],
   "source": [
    "# to_pandas_adjacency\n",
    "import pandas as pd \n",
    "pd.options.display.max_columns = 20 \n",
    "import numpy as np \n",
    "G = nx.Graph([(1, 1)])\n",
    "df = nx.to_pandas_adjacency(G, dtype=int)\n",
    "df "
   ]
  },
  {
   "cell_type": "code",
   "execution_count": 39,
   "metadata": {},
   "outputs": [],
   "source": [
    "df.values[np.diag_indices_from(df)] *= 2"
   ]
  },
  {
   "cell_type": "code",
   "execution_count": 41,
   "metadata": {},
   "outputs": [
    {
     "data": {
      "text/html": [
       "<div>\n",
       "<style scoped>\n",
       "    .dataframe tbody tr th:only-of-type {\n",
       "        vertical-align: middle;\n",
       "    }\n",
       "\n",
       "    .dataframe tbody tr th {\n",
       "        vertical-align: top;\n",
       "    }\n",
       "\n",
       "    .dataframe thead th {\n",
       "        text-align: right;\n",
       "    }\n",
       "</style>\n",
       "<table border=\"1\" class=\"dataframe\">\n",
       "  <thead>\n",
       "    <tr style=\"text-align: right;\">\n",
       "      <th></th>\n",
       "      <th>1</th>\n",
       "    </tr>\n",
       "  </thead>\n",
       "  <tbody>\n",
       "    <tr>\n",
       "      <th>1</th>\n",
       "      <td>2</td>\n",
       "    </tr>\n",
       "  </tbody>\n",
       "</table>\n",
       "</div>"
      ],
      "text/plain": [
       "   1\n",
       "1  2"
      ]
     },
     "execution_count": 41,
     "metadata": {},
     "output_type": "execute_result"
    }
   ],
   "source": [
    "df"
   ]
  },
  {
   "cell_type": "code",
   "execution_count": 42,
   "metadata": {},
   "outputs": [
    {
     "data": {
      "text/html": [
       "<div>\n",
       "<style scoped>\n",
       "    .dataframe tbody tr th:only-of-type {\n",
       "        vertical-align: middle;\n",
       "    }\n",
       "\n",
       "    .dataframe tbody tr th {\n",
       "        vertical-align: top;\n",
       "    }\n",
       "\n",
       "    .dataframe thead th {\n",
       "        text-align: right;\n",
       "    }\n",
       "</style>\n",
       "<table border=\"1\" class=\"dataframe\">\n",
       "  <thead>\n",
       "    <tr style=\"text-align: right;\">\n",
       "      <th></th>\n",
       "      <th>0</th>\n",
       "      <th>1</th>\n",
       "      <th>2</th>\n",
       "    </tr>\n",
       "  </thead>\n",
       "  <tbody>\n",
       "    <tr>\n",
       "      <th>0</th>\n",
       "      <td>0</td>\n",
       "      <td>2</td>\n",
       "      <td>0</td>\n",
       "    </tr>\n",
       "    <tr>\n",
       "      <th>1</th>\n",
       "      <td>1</td>\n",
       "      <td>0</td>\n",
       "      <td>0</td>\n",
       "    </tr>\n",
       "    <tr>\n",
       "      <th>2</th>\n",
       "      <td>0</td>\n",
       "      <td>0</td>\n",
       "      <td>4</td>\n",
       "    </tr>\n",
       "  </tbody>\n",
       "</table>\n",
       "</div>"
      ],
      "text/plain": [
       "   0  1  2\n",
       "0  0  2  0\n",
       "1  1  0  0\n",
       "2  0  0  4"
      ]
     },
     "execution_count": 42,
     "metadata": {},
     "output_type": "execute_result"
    }
   ],
   "source": [
    "G = nx.MultiDiGraph()\n",
    "G.add_edge(0, 1, weight=2)\n",
    "G.add_edge(1, 0)\n",
    "G.add_edge(2, 2, weight=3)\n",
    "G.add_edge(2, 2)\n",
    "\n",
    "nx.to_pandas_adjacency(G, nodelist=[0, 1, 2], dtype=int)"
   ]
  },
  {
   "cell_type": "markdown",
   "metadata": {},
   "source": [
    "- `from_pandas_adjacency`(df[, create_using]): Returns a graph from Pandas DataFrame."
   ]
  },
  {
   "cell_type": "code",
   "execution_count": 43,
   "metadata": {},
   "outputs": [
    {
     "data": {
      "text/html": [
       "<div>\n",
       "<style scoped>\n",
       "    .dataframe tbody tr th:only-of-type {\n",
       "        vertical-align: middle;\n",
       "    }\n",
       "\n",
       "    .dataframe tbody tr th {\n",
       "        vertical-align: top;\n",
       "    }\n",
       "\n",
       "    .dataframe thead th {\n",
       "        text-align: right;\n",
       "    }\n",
       "</style>\n",
       "<table border=\"1\" class=\"dataframe\">\n",
       "  <thead>\n",
       "    <tr style=\"text-align: right;\">\n",
       "      <th></th>\n",
       "      <th>0</th>\n",
       "      <th>1</th>\n",
       "    </tr>\n",
       "  </thead>\n",
       "  <tbody>\n",
       "    <tr>\n",
       "      <th>0</th>\n",
       "      <td>1</td>\n",
       "      <td>1</td>\n",
       "    </tr>\n",
       "    <tr>\n",
       "      <th>1</th>\n",
       "      <td>2</td>\n",
       "      <td>1</td>\n",
       "    </tr>\n",
       "  </tbody>\n",
       "</table>\n",
       "</div>"
      ],
      "text/plain": [
       "   0  1\n",
       "0  1  1\n",
       "1  2  1"
      ]
     },
     "execution_count": 43,
     "metadata": {},
     "output_type": "execute_result"
    }
   ],
   "source": [
    "# from_pandas_adjacency\n",
    "import pandas as pd \n",
    "df = pd.DataFrame([[1, 1, ], [2, 1]])\n",
    "df"
   ]
  },
  {
   "cell_type": "code",
   "execution_count": 44,
   "metadata": {},
   "outputs": [
    {
     "name": "stdout",
     "output_type": "stream",
     "text": [
      "Graph named 'Graph from pandas adjacency matrix' with 2 nodes and 3 edges\n"
     ]
    },
    {
     "name": "stderr",
     "output_type": "stream",
     "text": [
      "C:\\Users\\EonKim\\AppData\\Local\\Temp\\ipykernel_18736\\1275228846.py:3: DeprecationWarning: info is deprecated and will be removed in version 3.0.\n",
      "\n",
      "  print(nx.info(G))\n"
     ]
    }
   ],
   "source": [
    "G = nx.from_pandas_adjacency(df)\n",
    "G.name = 'Graph from pandas adjacency matrix'\n",
    "print(nx.info(G))"
   ]
  },
  {
   "cell_type": "markdown",
   "metadata": {},
   "source": [
    "- `to_pandas_edgelist`(G[, source, target, ...]): Returns the graph edge list as a Pandas DataFrame."
   ]
  },
  {
   "cell_type": "code",
   "execution_count": 46,
   "metadata": {},
   "outputs": [
    {
     "data": {
      "text/html": [
       "<div>\n",
       "<style scoped>\n",
       "    .dataframe tbody tr th:only-of-type {\n",
       "        vertical-align: middle;\n",
       "    }\n",
       "\n",
       "    .dataframe tbody tr th {\n",
       "        vertical-align: top;\n",
       "    }\n",
       "\n",
       "    .dataframe thead th {\n",
       "        text-align: right;\n",
       "    }\n",
       "</style>\n",
       "<table border=\"1\" class=\"dataframe\">\n",
       "  <thead>\n",
       "    <tr style=\"text-align: right;\">\n",
       "      <th></th>\n",
       "      <th>source</th>\n",
       "      <th>target</th>\n",
       "      <th>cost</th>\n",
       "      <th>weight</th>\n",
       "    </tr>\n",
       "  </thead>\n",
       "  <tbody>\n",
       "    <tr>\n",
       "      <th>0</th>\n",
       "      <td>A</td>\n",
       "      <td>B</td>\n",
       "      <td>1</td>\n",
       "      <td>7</td>\n",
       "    </tr>\n",
       "    <tr>\n",
       "      <th>1</th>\n",
       "      <td>C</td>\n",
       "      <td>E</td>\n",
       "      <td>9</td>\n",
       "      <td>10</td>\n",
       "    </tr>\n",
       "  </tbody>\n",
       "</table>\n",
       "</div>"
      ],
      "text/plain": [
       "  source target  cost  weight\n",
       "0      A      B     1       7\n",
       "1      C      E     9      10"
      ]
     },
     "execution_count": 46,
     "metadata": {},
     "output_type": "execute_result"
    }
   ],
   "source": [
    "# to_pandas_edgelist\n",
    "G = nx.Graph(\n",
    "    [\n",
    "        (\"A\", \"B\", {\"cost\": 1, \"weight\": 7}),\n",
    "        (\"C\", \"E\", {\"cost\": 9, \"weight\": 10}),\n",
    "    ]\n",
    ")\n",
    "df = nx.to_pandas_edgelist(G, nodelist=[\"A\", \"C\"])\n",
    "df[[\"source\", \"target\", \"cost\", \"weight\"]]"
   ]
  },
  {
   "cell_type": "code",
   "execution_count": 47,
   "metadata": {},
   "outputs": [
    {
     "data": {
      "text/html": [
       "<div>\n",
       "<style scoped>\n",
       "    .dataframe tbody tr th:only-of-type {\n",
       "        vertical-align: middle;\n",
       "    }\n",
       "\n",
       "    .dataframe tbody tr th {\n",
       "        vertical-align: top;\n",
       "    }\n",
       "\n",
       "    .dataframe thead th {\n",
       "        text-align: right;\n",
       "    }\n",
       "</style>\n",
       "<table border=\"1\" class=\"dataframe\">\n",
       "  <thead>\n",
       "    <tr style=\"text-align: right;\">\n",
       "      <th></th>\n",
       "      <th>source</th>\n",
       "      <th>target</th>\n",
       "      <th>cost</th>\n",
       "      <th>ekey</th>\n",
       "    </tr>\n",
       "  </thead>\n",
       "  <tbody>\n",
       "    <tr>\n",
       "      <th>0</th>\n",
       "      <td>A</td>\n",
       "      <td>B</td>\n",
       "      <td>1</td>\n",
       "      <td>0</td>\n",
       "    </tr>\n",
       "    <tr>\n",
       "      <th>1</th>\n",
       "      <td>A</td>\n",
       "      <td>B</td>\n",
       "      <td>9</td>\n",
       "      <td>1</td>\n",
       "    </tr>\n",
       "  </tbody>\n",
       "</table>\n",
       "</div>"
      ],
      "text/plain": [
       "  source target  cost  ekey\n",
       "0      A      B     1     0\n",
       "1      A      B     9     1"
      ]
     },
     "execution_count": 47,
     "metadata": {},
     "output_type": "execute_result"
    }
   ],
   "source": [
    "G = nx.MultiGraph([('A', 'B', {'cost': 1}), ('A', 'B', {'cost': 9})])\n",
    "df = nx.to_pandas_edgelist(G, nodelist=['A', 'C'], edge_key='ekey')\n",
    "df[['source', 'target', 'cost', 'ekey']]"
   ]
  },
  {
   "cell_type": "markdown",
   "metadata": {},
   "source": [
    "- `from_pandas_edgelist`(df[, source, target, ...]): Returns a graph from Pandas DataFrame contraining an edge list."
   ]
  },
  {
   "cell_type": "code",
   "execution_count": 48,
   "metadata": {},
   "outputs": [
    {
     "data": {
      "text/html": [
       "<div>\n",
       "<style scoped>\n",
       "    .dataframe tbody tr th:only-of-type {\n",
       "        vertical-align: middle;\n",
       "    }\n",
       "\n",
       "    .dataframe tbody tr th {\n",
       "        vertical-align: top;\n",
       "    }\n",
       "\n",
       "    .dataframe thead th {\n",
       "        text-align: right;\n",
       "    }\n",
       "</style>\n",
       "<table border=\"1\" class=\"dataframe\">\n",
       "  <thead>\n",
       "    <tr style=\"text-align: right;\">\n",
       "      <th></th>\n",
       "      <th>weight</th>\n",
       "      <th>cost</th>\n",
       "      <th>0</th>\n",
       "      <th>b</th>\n",
       "    </tr>\n",
       "  </thead>\n",
       "  <tbody>\n",
       "    <tr>\n",
       "      <th>0</th>\n",
       "      <td>1</td>\n",
       "      <td>7</td>\n",
       "      <td>A</td>\n",
       "      <td>D</td>\n",
       "    </tr>\n",
       "    <tr>\n",
       "      <th>1</th>\n",
       "      <td>3</td>\n",
       "      <td>5</td>\n",
       "      <td>B</td>\n",
       "      <td>A</td>\n",
       "    </tr>\n",
       "    <tr>\n",
       "      <th>2</th>\n",
       "      <td>4</td>\n",
       "      <td>9</td>\n",
       "      <td>C</td>\n",
       "      <td>E</td>\n",
       "    </tr>\n",
       "  </tbody>\n",
       "</table>\n",
       "</div>"
      ],
      "text/plain": [
       "   weight  cost  0  b\n",
       "0       1     7  A  D\n",
       "1       3     5  B  A\n",
       "2       4     9  C  E"
      ]
     },
     "execution_count": 48,
     "metadata": {},
     "output_type": "execute_result"
    }
   ],
   "source": [
    "# from_pandas_edgelist\n",
    "import pandas as pd \n",
    "import numpy as np \n",
    "\n",
    "ints = np.random.randint(1, 11, size=(3, 2))\n",
    "a = ['A', 'B', 'C']\n",
    "b = ['D', 'A', 'E']\n",
    "\n",
    "df = pd.DataFrame(ints, columns=['weight', 'cost'])\n",
    "df[0] = a \n",
    "df['b'] = b \n",
    "df[['weight', 'cost', 0, 'b']]"
   ]
  },
  {
   "cell_type": "code",
   "execution_count": 49,
   "metadata": {},
   "outputs": [
    {
     "data": {
      "text/plain": [
       "'red'"
      ]
     },
     "execution_count": 49,
     "metadata": {},
     "output_type": "execute_result"
    }
   ],
   "source": [
    "G = nx.from_pandas_edgelist(df, 0, 'b', ['weight', 'cost'])\n",
    "G['E']['C']['weight'] # 10 \n",
    "G['E']['C']['cost'] # 9 \n",
    "\n",
    "edges = pd.DataFrame( \n",
    "                     {\n",
    "                         'source':[0, 1, 2], \n",
    "                         'target':[2, 2, 3], \n",
    "                         'weight':[3, 4, 5], \n",
    "                         'color':['red', 'blue', 'blue']\n",
    "                     })\n",
    "G = nx.from_pandas_edgelist(edges, edge_attr=True)\n",
    "G[0][2]['color']"
   ]
  },
  {
   "cell_type": "code",
   "execution_count": 50,
   "metadata": {},
   "outputs": [
    {
     "data": {
      "text/plain": [
       "AtlasView({'A': {'weight': 3, 'color': 'red'}, 'D': {'weight': 6, 'color': 'blue'}})"
      ]
     },
     "execution_count": 50,
     "metadata": {},
     "output_type": "execute_result"
    }
   ],
   "source": [
    "edges = pd.DataFrame(\n",
    "    {\n",
    "        \"source\": [0, 1, 2, 0],\n",
    "        \"target\": [2, 2, 3, 2],\n",
    "        \"my_edge_key\": [\"A\", \"B\", \"C\", \"D\"],\n",
    "        \"weight\": [3, 4, 5, 6],\n",
    "        \"color\": [\"red\", \"blue\", \"blue\", \"blue\"],\n",
    "    }\n",
    ")\n",
    "G = nx.from_pandas_edgelist(\n",
    "    edges,\n",
    "    edge_key=\"my_edge_key\",\n",
    "    edge_attr=[\"weight\", \"color\"],\n",
    "    create_using=nx.MultiGraph(),\n",
    ")\n",
    "G[0][2]"
   ]
  }
 ],
 "metadata": {
  "kernelspec": {
   "display_name": "Python 3.9.6 64-bit",
   "language": "python",
   "name": "python3"
  },
  "language_info": {
   "codemirror_mode": {
    "name": "ipython",
    "version": 3
   },
   "file_extension": ".py",
   "mimetype": "text/x-python",
   "name": "python",
   "nbconvert_exporter": "python",
   "pygments_lexer": "ipython3",
   "version": "3.9.6"
  },
  "orig_nbformat": 4,
  "vscode": {
   "interpreter": {
    "hash": "116e0bc72a1820dee7c1d3f3e708778f7416cc41eb6b2ea33b8e8b62fc39e31e"
   }
  }
 },
 "nbformat": 4,
 "nbformat_minor": 2
}
