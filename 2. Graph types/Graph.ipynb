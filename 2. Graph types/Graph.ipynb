{
 "cells": [
  {
   "cell_type": "markdown",
   "metadata": {},
   "source": [
    "## Graph - Undirected graph with self loops\n",
    "\n",
    "`undirected graph`를 위한 `class` 입니다. "
   ]
  },
  {
   "cell_type": "code",
   "execution_count": 2,
   "metadata": {},
   "outputs": [],
   "source": [
    "import networkx as nx \n",
    "\n",
    "G = nx.Graph()"
   ]
  },
  {
   "cell_type": "code",
   "execution_count": 3,
   "metadata": {},
   "outputs": [],
   "source": [
    "# Nodes\n",
    "G.add_node(1)\n",
    "G.add_nodes_from([2, 3])\n",
    "G.add_nodes_from(range(100, 110))\n",
    "H = nx.path_graph(10)\n",
    "G.add_nodes_from(H)\n",
    "\n",
    "G.add_node(H)"
   ]
  },
  {
   "cell_type": "code",
   "execution_count": 4,
   "metadata": {},
   "outputs": [],
   "source": [
    "# Edges \n",
    "G.add_edge(1, 2)\n",
    "G.add_edges_from([(1, 2), (1, 3)])\n",
    "G.add_edges_from(H.edges)"
   ]
  },
  {
   "cell_type": "code",
   "execution_count": null,
   "metadata": {},
   "outputs": [],
   "source": [
    "# Attributes \n",
    "G = nx.Graph(day='Friday')\n",
    "G.graph # {'day', 'Friday'}\n",
    "\n",
    "G.add_node(1, time='5pm')\n",
    "G.add_nodes_from([3], time=\"2pm\")\n",
    "G.nodes[1]\n",
    "\n",
    "G.nodes[1]['room'] = 714 # node must exist already to use G.nodes\n",
    "del G.nodes[1]['room'] # remove attribute\n",
    "\n",
    "list(G.nodes(data=True))"
   ]
  },
  {
   "cell_type": "code",
   "execution_count": 6,
   "metadata": {},
   "outputs": [
    {
     "data": {
      "text/plain": [
       "3"
      ]
     },
     "execution_count": 6,
     "metadata": {},
     "output_type": "execute_result"
    }
   ],
   "source": [
    "# Shortcuts \n",
    "G = nx.Graph()\n",
    "G.add_nodes_from([1, 2, 3])\n",
    "\n",
    "1 in G # True \n",
    "\n",
    "[n for n in G if n < 3] # iterate through nodes \n",
    "\n",
    "len(G) # number of nodes in graph "
   ]
  },
  {
   "cell_type": "code",
   "execution_count": null,
   "metadata": {},
   "outputs": [],
   "source": [
    "for n, nbrsdict in G.adjacency(): # G.adj or G.adjacency()\n",
    "    for nbr, eattr in nbrsdict.items(): \n",
    "        if 'weight' in eattr:\n",
    "            # Do something useful with the edges\n",
    "            pass \n"
   ]
  },
  {
   "cell_type": "code",
   "execution_count": null,
   "metadata": {},
   "outputs": [],
   "source": [
    "for u, v, weight in G.edges.data('weight'):\n",
    "    if weight is not None:\n",
    "        # Do something useful with the edges\n",
    "        pass "
   ]
  },
  {
   "cell_type": "markdown",
   "metadata": {},
   "source": [
    "## Subclasses \n",
    "\n",
    "- `node_dict_factory`: Factory function to be used to creat the dict containing node attributes, keyed by node id. It should require no arguments and return a dict-like object \n",
    "- `node_attr_dict_factory`: Factory function to be used to create the node attribute dict which holds attribute values keyed by attribute name. It should require no arguments and return a dict-like object \n",
    "- `adjlist_outer_dict_factory`: Factory function to be used to create the outer-most dict in the data structure that holds adjacency info keyed by node. It should require no arguments and return a dict-like object \n",
    "- `adjlist_inner_dict_factory`: Factory function to be used to create the adjacency list dict which holds edge data keyed by neighbor. It should require no arguments and return a dict-like object\n",
    "- `edge_attr_dict_factory`: Factory function to be used to create the edge attribute dict which holds attribute values keyed by attribute name. It should require no arguments and return a dict-like object.\n",
    "- `graph_attr_dict_factory`: Factory function to be used to create the graph attribute dict which holds attribute values keyed by attribute name. It should require no arguments and return a dict-like object.\n",
    "- `to_directed_class`: (default: DiGraph or MultiDiGraph) Class to create a new graph structure in the to_directed method. If None, a NetworkX class (DiGraph or MultiDiGraph) is used.\n",
    "- `to_undirected_class`: (default: Graph or MultiGraph) Class to create a new graph structure in the to_undirected method. If None, a NetworkX class (Graph or MultiGraph) is used."
   ]
  },
  {
   "cell_type": "code",
   "execution_count": 7,
   "metadata": {},
   "outputs": [
    {
     "data": {
      "text/plain": [
       "True"
      ]
     },
     "execution_count": 7,
     "metadata": {},
     "output_type": "execute_result"
    }
   ],
   "source": [
    "class ThinGraph(nx.Graph):\n",
    "    all_edge_dict = {'weight':0.5}\n",
    "    \n",
    "    def single_edge_dict(self):\n",
    "        return self.all_edge_dict\n",
    "    \n",
    "    edge_attr_dict_factory = single_edge_dict # edge의 default를 수정할 수 있습니다. \n",
    "\n",
    "G = ThinGraph()\n",
    "G.add_edge(2, 1)\n",
    "G[2][1] # {'weight': 0.5}\n",
    "G.add_edge(2, 2)\n",
    "G[2][1] is G[2][2]"
   ]
  },
  {
   "cell_type": "markdown",
   "metadata": {},
   "source": [
    "## Methods \n",
    "\n",
    "### Adding and removing nodes and edges \n",
    "\n",
    "- `Graph.__init__`([incoming_graph_data]): Initialize a graph with edges, name, or graph attributes. \n",
    "- `Graph.add_node`(node_for_adding, **attr): Add a single node `node_for_adding` and update node attributes.\n",
    "- `Graph.add_nodes_from`(node_for_adding, **attr): Add multiple nodes.\n",
    "- `Graph.remove_node`(n): Remove node n. \n",
    "- `Graph.remove_nodes_from`(nodes): Remove multiple nodes. \n",
    "- `Graph.add_edge`(u_of_edge, v_of_edge, **attr): Add an edge between `u` and `v`. \n",
    "- `Graph.add_edges_from`(ebunch_to_add, **attr): Add all the edges in ebunch_to_add.\n",
    "- `Graph.add_weighted_edges_from`(ebunch_to_add): Add weighted edges in `ebunch_to_add` with specified weight attr. \n",
    "- `Graph.remove_edge`(u, v): Remove the edge between `u` and `v`.\n",
    "- `Graph.remove_edges_from`(ebunch): Remove all edges specified in ebunch.\n",
    "- `Graph.update`([edges, nodes]): Update the graph using nodes/edges/graphs as input.\n",
    "- `Graph.clear`(): Remove all nodes and edges from the graph.\n",
    "- `Graph.clear_edges`(): Remove all edges from the graph without altering nodes.\n",
    "\n",
    "### Reporint nodes edges and neighbors \n",
    "\n",
    "- `Graph.nodes`: A NodeView of the Graph as G.nodes or G.nodes().\n",
    "- `Graph.__iter__`(): Iterate over the nodes.\n",
    "- `Graph.has_node`(n): Returns True if the graph contains the node `n`.\n",
    "- `Graph.__contains__`(n): Returns True if n is a node, False otherwise.\n",
    "- `Graph.edges`: An EdgeView of the Graph as G.endges or G.edges().\n",
    "- `Graph.has_edge`(u, v): Returns True if the edge (u, v) is in the graph.\n",
    "- `Graph.get_edge_data`(u, v[, default]): Returns the attribute dictionary associated with edge (u, v).\n",
    "- `Graph.neighbors`(n): Returns an iterator over all neighbors of node `n`.\n",
    "- `Graph.adj`: Graph adjacency object holding the neighbors of each node.\n",
    "- `Graph.__getitem__`(n): Returns a dict of neighbors of node `n`.\n",
    "- `Graph.adjacency`(): Returns an iterator over (node, adjacency dict) tuples for all nodes.\n",
    "- `Graph.nbunch_iter`([nbunch]): Returns an iterator over nodes contained in nbunch that are also in the graph.\n",
    "\n",
    "### Counting nodes edges and neighbors \n",
    "\n",
    "- `Graph.order`(): Returns the number of nodes in the graph.\n",
    "- `Graph.number_of_nodes`(): Return the number of nodes in the graph.\n",
    "- `Graph.__len__`(): Return the number of nodes in the graph.\n",
    "- `Graph.degree`: A DegreeView for the Graph as G.degree or G.degree().\n",
    "- `Graph.size`([weight]): Returns the number of edges or total of all edge weights.\n",
    "- `Graph.number_of_edges`([u, v]): Returns the number of edges between two nodes.\n",
    "\n",
    "### Making copies and subgraphs \n",
    "\n",
    "- `Graph.copy`([as_view]): Returns a copy of the graph.\n",
    "- `Graph.to_undirected`([as_veiw]): Return an undirected copy of the graph.\n",
    "- `Graph.to_directed`([as_view]): Returns a directed representation of the graph.\n",
    "- `Graph.subgraph`(nodes): Returns a SubGraph view of the subgraph induced on `nodes`.\n",
    "- `Graph.edge_subgraph`(edges): Return the subgraph induced by the specified edges."
   ]
  }
 ],
 "metadata": {
  "kernelspec": {
   "display_name": "Python 3.9.6 64-bit",
   "language": "python",
   "name": "python3"
  },
  "language_info": {
   "codemirror_mode": {
    "name": "ipython",
    "version": 3
   },
   "file_extension": ".py",
   "mimetype": "text/x-python",
   "name": "python",
   "nbconvert_exporter": "python",
   "pygments_lexer": "ipython3",
   "version": "3.9.6"
  },
  "orig_nbformat": 4,
  "vscode": {
   "interpreter": {
    "hash": "116e0bc72a1820dee7c1d3f3e708778f7416cc41eb6b2ea33b8e8b62fc39e31e"
   }
  }
 },
 "nbformat": 4,
 "nbformat_minor": 2
}
