{
 "cells": [
  {
   "cell_type": "markdown",
   "metadata": {},
   "source": [
    "## DiGraph-Directed graphs with self loops"
   ]
  },
  {
   "cell_type": "code",
   "execution_count": 1,
   "metadata": {},
   "outputs": [],
   "source": [
    "import networkx as nx "
   ]
  },
  {
   "cell_type": "code",
   "execution_count": 2,
   "metadata": {},
   "outputs": [],
   "source": [
    "G = nx.DiGraph() # null graph"
   ]
  },
  {
   "cell_type": "code",
   "execution_count": 3,
   "metadata": {},
   "outputs": [],
   "source": [
    "# add node \n",
    "G.add_node(1)\n",
    "\n",
    "G.add_nodes_from([2, 3])\n",
    "G.add_nodes_from(range(100, 110))\n",
    "H = nx.path_graph(10) # random graph \n",
    "G.add_nodes_from(H)\n",
    "\n",
    "G.add_node(H)\n"
   ]
  },
  {
   "cell_type": "code",
   "execution_count": null,
   "metadata": {},
   "outputs": [],
   "source": [
    "# add edge \n",
    "G.add_edge(1, 2)\n",
    "\n",
    "G.add_edges_from([(1, 2), (1, 3)]) # list of edges\n",
    "\n",
    "G.add_edges_from(H.edges) # collection of edges"
   ]
  },
  {
   "cell_type": "code",
   "execution_count": null,
   "metadata": {},
   "outputs": [],
   "source": [
    "# Attribute \n",
    "\n",
    "G = nx.DiGraph(day='Friday')\n",
    "G.graph # {'day': 'Friday'}\n",
    "\n",
    "G.add_node(1, time='5pm')\n",
    "G.add_nodes_from([3], time='2pm')\n",
    "G.nodes[1] # {'time':'5pm'}\n",
    "\n",
    "G.nodes[1]['room'] = 714 \n",
    "del G.nodes[1]['room'] # remove attribute\n",
    "\n",
    "list(G.nodes(data=True))\n",
    "# [(1, {'time': '5pm'}), (3, {'time': '2pm'})]"
   ]
  },
  {
   "cell_type": "code",
   "execution_count": 7,
   "metadata": {},
   "outputs": [],
   "source": [
    "G.add_edge(1, 2, weight=4.7)\n",
    "G.add_edges_from([(3, 4), (4, 5)], color='red')\n",
    "G.add_edges_from([(1, 2, {'color':'blue'}), (2, 3, {'weight':8})])\n",
    "G[1][2]['weight']=4.7\n",
    "G.edges[1, 2]['weight'] = 4"
   ]
  },
  {
   "cell_type": "code",
   "execution_count": null,
   "metadata": {},
   "outputs": [],
   "source": [
    "# Shortcuts \n",
    "1 in  G  #True \n",
    "\n",
    "[n for n in G if n < 3] # list comprehension\n",
    "\n",
    "len(G)"
   ]
  },
  {
   "cell_type": "code",
   "execution_count": null,
   "metadata": {},
   "outputs": [],
   "source": [
    "for n, nbrsdict in G.adjacency():\n",
    "    for nbr, eattr in nbrsdict.items():\n",
    "        if \"weight\" in eattr:\n",
    "            # Do something useful with the edges\n",
    "            pass"
   ]
  },
  {
   "cell_type": "code",
   "execution_count": null,
   "metadata": {},
   "outputs": [],
   "source": [
    "for u, v, weight in G.edges(data=\"weight\"):\n",
    "    if weight is not None:\n",
    "        # Do something useful with the edges\n",
    "        pass"
   ]
  },
  {
   "cell_type": "markdown",
   "metadata": {},
   "source": [
    "## Methods \n",
    "\n",
    "### Adding and removing nodes and edges \n",
    "\n",
    "- `DiGraph.__init__`([incoming_graph_data]): Initialize a graph with edges, name, or graph attributes.\n",
    "- `DiGraph.add_node`(node_for_adding, **attr): Add a single node `node_for_adding` and update node attributes.\n",
    "- `DiGraph.add_nodes_from`(nodes_for_adding, **attr): Add multiple nodes.\n",
    "- `DiGraph.remove_node`(n): Remove node n.\n",
    "- `DiGraph.remove_nodes_from`(nodes): Remove multiple nodes.\n",
    "- `DiGraph.add_edge`(u_of_edge, v_of_edge, **attr): Add an edge between u and v.\n",
    "- `DiGraph.add_edges_from`(ebunch_to_add, **attr): Add all the edges in ebunch_to_add.\n",
    "- `DiGraph.add_weighted_edges_from`(ebunto_to_add): Add weighted edges in `ebunch_to_add` with specified weight attr. \n",
    "- `DiGraph.remove_edge`(u, v): Remove the edge between u and v.\n",
    "- `DiGraph.remove_edges_from`(ebunch): Remove all edges specified in ebunch.\n",
    "- `DiGraph.update`([edges, nodes]): Update the graph using nodes/edges/graphs as input.\n",
    "- `DiGraph.clear`(): Remove all nodes and edges from the graph.\n",
    "- `DiGraph.clear_edges`(): Remove all edges from the graph without altering nodes.\n",
    "\n",
    "### Reporting nodes edges and neighbors\n",
    "\n",
    "- `DiGraph.nodes`: A NodeView of the Graph as G.nodes or G.nodes().\n",
    "- `DiGraph.__iter__`(): Iterate over the nodes.\n",
    "- `DiGraph.has_node`(n): Returns True if the graph contains the node n.\n",
    "- `DiGraph.__contains__`(n): Returns True if n is a node, False otherwise.\n",
    "- `DiGraph.edges`: An OutEdgeView of the DiGraph as G.edges or G.edges().\n",
    "- `DiGraph.out_edges`: An OutEdgeView of the DiGraph as G.edges or G.edges().\n",
    "- `DiGraph.in_edges`: An InEdgeView of the Graph as G.in_edges or G.in_graphs().\n",
    "- `DiGraph.has_edge`(u, v): Returns True if the edge (u, v) is in the graph.\n",
    "- `DiGraph.get_edge_data`(u, v[, default]): Returns the attribute dictionary associated with edge (u, v).\n",
    "- `DiGraph.neighbors`(n): Returns an iterator over successor nodes of n.\n",
    "- `DiGraph.adj`: Graph adjacency object holding the neighbors of each node.\n",
    "- `DiGraph.__getitem__`(n): Returns a dict of neighbors of node n.\n",
    "- `DiGraph.successors`(n) Returns an iterator over successor nodes of n.\n",
    "- `DiGraph.succ`: Graph adjacency object holding the successors of each node.\n",
    "- `DiGraph.predecessors`(n): Returns an iterator over predecessor nodes of n.\n",
    "- `DiGraph.pred`: Graph adjacency object holding the predecessors of each node.\n",
    "- `DiGraph.adjacency`(): Returns an iterator over (node, adjacency dict) tuples for all nodes.\n",
    "- `DiGraph.nbunch_iter`([nbunch]): Returns an iterator over nodes contained in nbunch that are also in the graph.\n",
    "\n",
    "### Counting nodes edges and neighbors\n",
    "\n",
    "- `DiGraph.order`(): Returns the number of nodes in the graph.\n",
    "- `DiGraph.number_of_nodes`(): Returns the number of nodes in the graph.\n",
    "- `DiGraph.__len__`(): Returns the number of nodes in the graph.\n",
    "- `DiGraph.degree`: A DegreeView for the Graph as G.degree or G.degree().\n",
    "- `DiGraph.in_degree`: An InDegreeView for (node, in_degree) or in_degree for single node.\n",
    "- `DiGreaph.out_degree`: An OutDegreeView for (node, out_degree)\n",
    "- `DiGraph.size`([weight]): Returns the number of edges or total of all edge weights.\n",
    "- `DiGraph.number_of_edges`([u, v]): Returns the number of edges between tweo nodes.\n",
    "\n",
    "### Making copies and subgraphs\n",
    "\n",
    "- `DiGraph.copy`([as_view]): Returns a copy of the graph.\n",
    "- `DiGraph.to_undirected`([reciprocal, as_view]): Returns an undirected representation of the digraph.\n",
    "- `DiGraph.to_directed`([as_view]): Returns a directed representation of the graph.\n",
    "- `DiGraph.subgraph`(nodes): Returns a SubGraph view of the subgraph induced on `nodes`.\n",
    "- `DiGraph.edge_subgraph`(edges): Returns the subgraph induced by the specified edges.\n",
    "- `DiGraph.reverse`([copy]): Returns the reverse of the graph."
   ]
  }
 ],
 "metadata": {
  "kernelspec": {
   "display_name": "Python 3.10.4 ('dgl')",
   "language": "python",
   "name": "python3"
  },
  "language_info": {
   "codemirror_mode": {
    "name": "ipython",
    "version": 3
   },
   "file_extension": ".py",
   "mimetype": "text/x-python",
   "name": "python",
   "nbconvert_exporter": "python",
   "pygments_lexer": "ipython3",
   "version": "3.10.4"
  },
  "orig_nbformat": 4,
  "vscode": {
   "interpreter": {
    "hash": "91f4586c667beba9fc73d5e38cfe2361778c9000e218f655761c33977cb8e239"
   }
  }
 },
 "nbformat": 4,
 "nbformat_minor": 2
}
