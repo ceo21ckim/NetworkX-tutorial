{
 "cells": [
  {
   "cell_type": "markdown",
   "metadata": {},
   "source": [
    "## Graph Matrix\n",
    "\n",
    "- `adjacency_matrix`(G[, nodelist, dtype, weight]): Returns adjacency matrix of G.\n",
    "- `incidence_matrix`(G[, nodelist, edgelist, ...]): Returns incidence matrix of G."
   ]
  },
  {
   "cell_type": "code",
   "execution_count": 6,
   "metadata": {},
   "outputs": [
    {
     "name": "stdout",
     "output_type": "stream",
     "text": [
      "[[1 1 1]\n",
      " [1 0 1]\n",
      " [1 1 0]]\n"
     ]
    },
    {
     "name": "stderr",
     "output_type": "stream",
     "text": [
      "C:\\Users\\EonKim\\AppData\\Local\\Temp\\ipykernel_26888\\431187968.py:5: FutureWarning: adjacency_matrix will return a scipy.sparse array instead of a matrix in Networkx 3.0.\n",
      "  A = nx.adjacency_matrix(G)\n"
     ]
    }
   ],
   "source": [
    "import networkx as nx \n",
    "\n",
    "# adjacency matrix \n",
    "G = nx.Graph([(1, 1), (1, 2), (2, 3), (3, 1)])\n",
    "A = nx.adjacency_matrix(G)\n",
    "print(A.todense())"
   ]
  },
  {
   "cell_type": "code",
   "execution_count": 7,
   "metadata": {},
   "outputs": [
    {
     "name": "stdout",
     "output_type": "stream",
     "text": [
      "[[2 1 1]\n",
      " [1 0 1]\n",
      " [1 1 0]]\n"
     ]
    },
    {
     "name": "stderr",
     "output_type": "stream",
     "text": [
      "c:\\Users\\EonKim\\AppData\\Local\\Programs\\Python\\Python39\\lib\\site-packages\\scipy\\sparse\\_index.py:146: SparseEfficiencyWarning: Changing the sparsity structure of a csr_matrix is expensive. lil_matrix is more efficient.\n",
      "  self._set_arrayXarray(i, j, x)\n"
     ]
    }
   ],
   "source": [
    "A.setdiag(A.diagonal() * 2)\n",
    "print(A.todense())"
   ]
  },
  {
   "cell_type": "markdown",
   "metadata": {},
   "source": [
    "## Laplacian Matrix \n",
    "\n",
    "- `laplacian_matrix`(G[, nodelist, weight]): Returns the Laplacian matrix of G.\n",
    "\n",
    "The graph Laplacian is the matrix $L=D-A$, where $A$ is the adjacency matrix and $D$ is the diagonal matrix of node degrees.\n",
    "\n",
    "- `normalized_laplacian_matrix`(G[, nodelist, ...]): Returns the normalized Laplacian matrix of G.\n",
    "- `directed_laplacian_matrix`(G[, nodelist, ...]): Returns the directed Laplacian matrix of G.\n",
    "- `directed_combinatorial_laplacian_matrix`(G[, ...]): Returns the directed combinatorial Laplacian matrix of G."
   ]
  },
  {
   "cell_type": "code",
   "execution_count": 22,
   "metadata": {},
   "outputs": [
    {
     "name": "stderr",
     "output_type": "stream",
     "text": [
      "C:\\Users\\EonKim\\AppData\\Local\\Temp\\ipykernel_26888\\1403629987.py:5: FutureWarning: adjacency_matrix will return a scipy.sparse array instead of a matrix in Networkx 3.0.\n",
      "  A = nx.adjacency_matrix(G)\n",
      "<class 'networkx.utils.decorators.argmap'> compilation 8:4: FutureWarning: laplacian_matrix will return a scipy.sparse array instead of a matrix in Networkx 3.0.\n"
     ]
    }
   ],
   "source": [
    "# laplacian_matrix \n",
    "G = nx.Graph([(1, 4), (1, 2), (2, 3), (3, 1), (4, 2)])\n",
    "\n",
    "A = nx.adjacency_matrix(G)\n",
    "L = nx.laplacian_matrix(G)"
   ]
  },
  {
   "cell_type": "code",
   "execution_count": 23,
   "metadata": {},
   "outputs": [
    {
     "data": {
      "text/plain": [
       "DegreeView({1: 3, 4: 2, 2: 3, 3: 2})"
      ]
     },
     "execution_count": 23,
     "metadata": {},
     "output_type": "execute_result"
    }
   ],
   "source": [
    "G.degree()"
   ]
  },
  {
   "cell_type": "code",
   "execution_count": 24,
   "metadata": {},
   "outputs": [
    {
     "data": {
      "text/plain": [
       "matrix([[0, 1, 1, 1],\n",
       "        [1, 0, 1, 0],\n",
       "        [1, 1, 0, 1],\n",
       "        [1, 0, 1, 0]], dtype=int32)"
      ]
     },
     "execution_count": 24,
     "metadata": {},
     "output_type": "execute_result"
    }
   ],
   "source": [
    "A.todense()"
   ]
  },
  {
   "cell_type": "code",
   "execution_count": 25,
   "metadata": {},
   "outputs": [
    {
     "data": {
      "text/plain": [
       "matrix([[3, 0, 0, 0],\n",
       "        [0, 2, 0, 0],\n",
       "        [0, 0, 3, 0],\n",
       "        [0, 0, 0, 2]], dtype=int32)"
      ]
     },
     "execution_count": 25,
     "metadata": {},
     "output_type": "execute_result"
    }
   ],
   "source": [
    "L.todense() + A.todense() # Degree matrix"
   ]
  },
  {
   "cell_type": "markdown",
   "metadata": {},
   "source": [
    "## Algebraic Connectivity \n",
    "\n",
    "Algebraic connectivity and Fielder vectors of undirected graphs.\n",
    "\n",
    "- `algebraic_connectivity`(G[, weight, ...]): Returns the algebraic connectivity of an undirected graph.\n",
    "- `fiedler_vector`(G[, weight, normalized, tol, ...]): Returns the Fiedler vector of a connected undirected graph.\n",
    "- `spectral_ordering`(G[, weight, normalized, ...]): Compute the spectal_ordering of a graph.\n",
    "\n",
    "\n",
    "## Attribute Matrices \n",
    "\n",
    "Functions for constructing matrix-like objects from graph attributes.\n",
    "\n",
    "- `attr_matrix`(G[, edge_attr, node_attr, ...]): Returns a NumPy matrix using attributes from G."
   ]
  },
  {
   "cell_type": "code",
   "execution_count": 30,
   "metadata": {},
   "outputs": [
    {
     "name": "stderr",
     "output_type": "stream",
     "text": [
      "C:\\Users\\EonKim\\AppData\\Local\\Temp\\ipykernel_26888\\929254966.py:5: FutureWarning: attr_matrix will return an numpy.ndarray instead of a numpy.matrix in NetworkX 3.0.\n",
      "  nx.attr_matrix(G, rc_order=[0, 1, 2])\n"
     ]
    },
    {
     "data": {
      "text/plain": [
       "matrix([[0., 1., 1.],\n",
       "        [1., 0., 0.],\n",
       "        [1., 0., 0.]])"
      ]
     },
     "execution_count": 30,
     "metadata": {},
     "output_type": "execute_result"
    }
   ],
   "source": [
    "# attr_matrix \n",
    "G = nx.Graph()\n",
    "G.add_edge(0, 1, thickness=1, weight=3)\n",
    "G.add_edge(0, 2, thickness=2)\n",
    "nx.attr_matrix(G, rc_order=[0, 1, 2]) # If no ordering is provided, then the ordering will be random (and also, return value)."
   ]
  },
  {
   "cell_type": "code",
   "execution_count": 31,
   "metadata": {},
   "outputs": [
    {
     "name": "stderr",
     "output_type": "stream",
     "text": [
      "C:\\Users\\EonKim\\AppData\\Local\\Temp\\ipykernel_26888\\1543509368.py:1: FutureWarning: attr_matrix will return an numpy.ndarray instead of a numpy.matrix in NetworkX 3.0.\n",
      "  nx.attr_matrix(G, edge_attr='thickness', rc_order=[0, 1, 2])\n"
     ]
    },
    {
     "data": {
      "text/plain": [
       "matrix([[0., 1., 2.],\n",
       "        [1., 0., 0.],\n",
       "        [2., 0., 0.]])"
      ]
     },
     "execution_count": 31,
     "metadata": {},
     "output_type": "execute_result"
    }
   ],
   "source": [
    "nx.attr_matrix(G, edge_attr='thickness', rc_order=[0, 1, 2])"
   ]
  },
  {
   "cell_type": "code",
   "execution_count": 32,
   "metadata": {},
   "outputs": [
    {
     "name": "stderr",
     "output_type": "stream",
     "text": [
      "C:\\Users\\EonKim\\AppData\\Local\\Temp\\ipykernel_26888\\2673152189.py:5: FutureWarning: attr_matrix will return an numpy.ndarray instead of a numpy.matrix in NetworkX 3.0.\n",
      "  nx.attr_matrix(G, node_attr='color', normalized=True, rc_order=rc)\n"
     ]
    },
    {
     "data": {
      "text/plain": [
       "matrix([[0.5, 0.5],\n",
       "        [1. , 0. ]])"
      ]
     },
     "execution_count": 32,
     "metadata": {},
     "output_type": "execute_result"
    }
   ],
   "source": [
    "G.nodes[0]['color'] = 'red'\n",
    "G.nodes[1]['color'] = 'red'\n",
    "G.nodes[2]['color'] = 'blue'\n",
    "rc = ['red', 'blue']\n",
    "nx.attr_matrix(G, node_attr='color', normalized=True, rc_order=rc)"
   ]
  },
  {
   "cell_type": "code",
   "execution_count": 33,
   "metadata": {},
   "outputs": [
    {
     "name": "stderr",
     "output_type": "stream",
     "text": [
      "C:\\Users\\EonKim\\AppData\\Local\\Temp\\ipykernel_26888\\991580329.py:1: FutureWarning: attr_matrix will return an numpy.ndarray instead of a numpy.matrix in NetworkX 3.0.\n",
      "  nx.attr_matrix(G, edge_attr=\"weight\", node_attr=\"color\", rc_order=rc)\n"
     ]
    },
    {
     "data": {
      "text/plain": [
       "matrix([[3., 1.],\n",
       "        [1., 0.]])"
      ]
     },
     "execution_count": 33,
     "metadata": {},
     "output_type": "execute_result"
    }
   ],
   "source": [
    "nx.attr_matrix(G, edge_attr=\"weight\", node_attr=\"color\", rc_order=rc)"
   ]
  },
  {
   "cell_type": "markdown",
   "metadata": {},
   "source": [
    "- `attr_sparse_matrix`(G[, edge_attr, ...]): Returns a SciPy matrix using attributes from G."
   ]
  },
  {
   "cell_type": "code",
   "execution_count": 34,
   "metadata": {},
   "outputs": [
    {
     "data": {
      "text/plain": [
       "array([[0., 1., 1.],\n",
       "       [1., 0., 1.],\n",
       "       [1., 1., 0.]])"
      ]
     },
     "execution_count": 34,
     "metadata": {},
     "output_type": "execute_result"
    }
   ],
   "source": [
    "# attr_sparse_matrix \n",
    "G = nx.Graph()\n",
    "G.add_edge(0, 1, thickness=1, weight=3)\n",
    "G.add_edge(0, 2, thickness=2)\n",
    "G.add_edge(1, 2, thickness=3)\n",
    "M = nx.attr_sparse_matrix(G, rc_order=[0, 1, 2])\n",
    "M.toarray()"
   ]
  },
  {
   "cell_type": "code",
   "execution_count": 35,
   "metadata": {},
   "outputs": [
    {
     "data": {
      "text/plain": [
       "array([[0., 1., 2.],\n",
       "       [1., 0., 3.],\n",
       "       [2., 3., 0.]])"
      ]
     },
     "execution_count": 35,
     "metadata": {},
     "output_type": "execute_result"
    }
   ],
   "source": [
    "M = nx.attr_sparse_matrix(G, edge_attr=\"thickness\", rc_order=[0, 1, 2])\n",
    "M.toarray()"
   ]
  },
  {
   "cell_type": "code",
   "execution_count": 36,
   "metadata": {},
   "outputs": [
    {
     "data": {
      "text/plain": [
       "array([[0.33333333, 0.66666667],\n",
       "       [1.        , 0.        ]])"
      ]
     },
     "execution_count": 36,
     "metadata": {},
     "output_type": "execute_result"
    }
   ],
   "source": [
    "G.nodes[0][\"color\"] = \"red\"\n",
    "G.nodes[1][\"color\"] = \"red\"\n",
    "G.nodes[2][\"color\"] = \"blue\"\n",
    "rc = [\"red\", \"blue\"]\n",
    "M = nx.attr_sparse_matrix(G, node_attr=\"color\", normalized=True, rc_order=rc)\n",
    "M.toarray()"
   ]
  },
  {
   "cell_type": "code",
   "execution_count": 37,
   "metadata": {},
   "outputs": [
    {
     "data": {
      "text/plain": [
       "array([[3., 2.],\n",
       "       [2., 0.]])"
      ]
     },
     "execution_count": 37,
     "metadata": {},
     "output_type": "execute_result"
    }
   ],
   "source": [
    "M = nx.attr_sparse_matrix(G, edge_attr=\"weight\", node_attr=\"color\", rc_order=rc)\n",
    "M.toarray()"
   ]
  },
  {
   "cell_type": "markdown",
   "metadata": {},
   "source": [
    "\n",
    "## Modularity Matrices \n",
    "\n",
    "Modularity matrix of graphs. modularity matrix $B = A - <A>$, where $A$ is the adjacency matrix and $<A>$ is the average adjacency matrix\n",
    "\n",
    "- `modularity_matrix`(G[, nodelist, weight]): Returns the modularity matrix of G.\n",
    "\n",
    "$ A_ij - \\frac{k_i k_j}{2m} $ where $k_i$ is the degree of node $i$, and where $m$ is the number of edges in the graph."
   ]
  },
  {
   "cell_type": "code",
   "execution_count": 38,
   "metadata": {},
   "outputs": [
    {
     "name": "stderr",
     "output_type": "stream",
     "text": [
      "<class 'networkx.utils.decorators.argmap'> compilation 13:5: FutureWarning: modularity_matrix will return a numpy array instead of a matrix in NetworkX 3.0.\n"
     ]
    }
   ],
   "source": [
    "k = [3, 2, 2, 1, 0]\n",
    "G = nx.havel_hakimi_graph(k)\n",
    "B = nx.modularity_matrix(G)"
   ]
  },
  {
   "cell_type": "code",
   "execution_count": 39,
   "metadata": {},
   "outputs": [
    {
     "data": {
      "text/plain": [
       "matrix([[-1.125,  0.25 ,  0.25 ,  0.625,  0.   ],\n",
       "        [ 0.25 , -0.5  ,  0.5  , -0.25 ,  0.   ],\n",
       "        [ 0.25 ,  0.5  , -0.5  , -0.25 ,  0.   ],\n",
       "        [ 0.625, -0.25 , -0.25 , -0.125,  0.   ],\n",
       "        [ 0.   ,  0.   ,  0.   ,  0.   ,  0.   ]])"
      ]
     },
     "execution_count": 39,
     "metadata": {},
     "output_type": "execute_result"
    }
   ],
   "source": [
    "B"
   ]
  },
  {
   "cell_type": "markdown",
   "metadata": {},
   "source": [
    "\n",
    "- `directed_modularity_matrix`(G[, nodelist, weight]): Returns the directed modularity matrix of G.\n",
    "\n",
    "$ B_{ij} = A_{ij} - k^{out}_i k^{in}_j / m $ where $k^{in}_i$ is the in degree of node $i$, and $k^{out}_j$is the out degree of node $j$, with $m$ the number of edges in the graph. "
   ]
  },
  {
   "cell_type": "code",
   "execution_count": 41,
   "metadata": {},
   "outputs": [
    {
     "name": "stderr",
     "output_type": "stream",
     "text": [
      "<class 'networkx.utils.decorators.argmap'> compilation 18:5: FutureWarning: directed_modularity_matrix will return a numpy array instead of a matrix in NetworkX 3.0.\n"
     ]
    }
   ],
   "source": [
    "# directed modularity matrix \n",
    "G = nx.DiGraph()\n",
    "G.add_edges_from(\n",
    "    (\n",
    "        (1, 2),\n",
    "        (1, 3),\n",
    "        (3, 1),\n",
    "        (3, 2),\n",
    "        (3, 5),\n",
    "        (4, 5),\n",
    "        (4, 6),\n",
    "        (5, 4),\n",
    "        (5, 6),\n",
    "        (6, 4),\n",
    "    )\n",
    ")\n",
    "B = nx.directed_modularity_matrix(G)"
   ]
  },
  {
   "cell_type": "code",
   "execution_count": 42,
   "metadata": {},
   "outputs": [
    {
     "data": {
      "text/plain": [
       "matrix([[-0.2,  0.6,  0.8, -0.4, -0.4, -0.4],\n",
       "        [ 0. ,  0. ,  0. ,  0. ,  0. ,  0. ],\n",
       "        [ 0.7,  0.4, -0.3,  0.4, -0.6, -0.6],\n",
       "        [-0.2, -0.4, -0.2, -0.4,  0.6,  0.6],\n",
       "        [-0.2, -0.4, -0.2,  0.6, -0.4,  0.6],\n",
       "        [-0.1, -0.2, -0.1, -0.2,  0.8, -0.2]])"
      ]
     },
     "execution_count": 42,
     "metadata": {},
     "output_type": "execute_result"
    }
   ],
   "source": [
    "B"
   ]
  },
  {
   "cell_type": "markdown",
   "metadata": {},
   "source": [
    "\n",
    "## Spectrum \n",
    "\n",
    "Eigenvalue spectrum of graphs.\n",
    "\n",
    "- `adjacency_spectrum`(G[, weight]): Returns eigenvalues of teh adjacnecy matrix of G.\n",
    "- `laplacian_spectrum`(G[, weight]): Returns eigenvalues of the Laplacian of G.\n",
    "- `bethe_hessian_spectrum`(G[, r]): Returns eigenvalues of the Bethe Hessian matrix of G.\n",
    "- `normalized_laplacian_spectrum`(G[, weight]): Return eigenvalues of the normalized Laplacian of G.\n",
    "- `modularity_spectrum`(G): Returns eigenvalues of the modularity matrix of G. "
   ]
  }
 ],
 "metadata": {
  "kernelspec": {
   "display_name": "Python 3.9.6 64-bit",
   "language": "python",
   "name": "python3"
  },
  "language_info": {
   "codemirror_mode": {
    "name": "ipython",
    "version": 3
   },
   "file_extension": ".py",
   "mimetype": "text/x-python",
   "name": "python",
   "nbconvert_exporter": "python",
   "pygments_lexer": "ipython3",
   "version": "3.9.6"
  },
  "orig_nbformat": 4,
  "vscode": {
   "interpreter": {
    "hash": "116e0bc72a1820dee7c1d3f3e708778f7416cc41eb6b2ea33b8e8b62fc39e31e"
   }
  }
 },
 "nbformat": 4,
 "nbformat_minor": 2
}
