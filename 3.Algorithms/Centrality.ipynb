{
 "cells": [
  {
   "cell_type": "markdown",
   "metadata": {},
   "source": [
    "## Centrality \n",
    "\n",
    "### Degree\n",
    "\n",
    "- `degree_centrality`(G): Compute the degree centrality for nodes\n",
    "- `in_degree_centrality`(G): Compute the in-degree centrality for nodes.\n",
    "- `out_degree_cnetrality`(G): Compute the out-degree centrality for nodes.\n",
    "\n",
    "### Eigenvector \n",
    "\n",
    "- `eigenvector_centrality`(G[, max_iter, tol, ...]): Compute the eigenvector centrality for the graph `G`.\n",
    "- `eigenvector_centrality`(G[, weight, ...]): Compute the eigenvector centrality for the graph `G`.\n",
    "- `katz_centrality`(G[, alpha, beta, max_iter, ...]): Compute the Katz centrality for the nodes fo the graph `G`.\n",
    "- `katz_centrality_numpy`(G[, alpha, beta, ...]): Compute the Katz centrality for the graph `G`.\n",
    "\n",
    "### Closeness\n",
    "\n",
    "- `closeness_centrality`(G[, u, distance, ...]): Compute closeness centrality for nodes.\n",
    "- `incremental_closeness_centrality`(G, dege[, ...]): Incremental closeness centrality for nodes.\n",
    "\n",
    "\n",
    "### Current Flow Closeness\n",
    "\n",
    "- `current_flow_closeness_centrality`(G[, ...]): Compute current-flow closeness centrality for nodes.\n",
    "- `information_centrality`(G[, weight, dtype, ...]): Compute current-flow closeness centrality for nodes.\n",
    "\n",
    "###  (Shortest Path) Betweenness\n",
    "\n",
    "- `betweenness_centrality`(G[, k, normlized, ...]): Compute the shortest-path betweenness centrality for nodes.\n",
    "- `betweenness_centrality_source`(G[, ...])\n",
    "- `betweenness_centrality_subset`(G, sources, ...): Compute betweenness centality for a subset of nodes.\n",
    "- `edge_betweenness_centrality`(G[, k, ...]): Compute betweenness centrality for edges.\n",
    "- `edge_betweenness_centrality_subset`(G, ...[, ...]): Compute betweenness centrality for edges for a subset of nodes.\n",
    "\n",
    "### Current Flow Betweenness\n",
    "\n",
    "- `current_flow_betweenness_centrality`(G[, ...]): Compute current-flow betweenness centrality for nodes.\n",
    "- `edge_current_flow_betweenness_centrality`(G): Compute current-flow betweenness centrality for edges.\n",
    "- `approximate_current_flow_betweenness_centrality`(G): Compute the approximate current-flow betweenness centrality for nodes.\n",
    "- `current_flow_betweenness_centrality_subset`(G, ...): Compute current-flow betweenness centrality for subsets of nodes.\n",
    "- `edge_current_flow_betweenness_centrality_subset`(G, ...): Compute current-flow betweenness centrality for edges using subsets of nodes.\n",
    "\n",
    "### Communicability Betweenness\n",
    "\n",
    "- `communicability_betweenness_centrality`(G): Returns subgraph communicability for al pairs of nodes in `G`.\n",
    "\n",
    "### Group Centrality \n",
    "\n",
    "- `group_betweenness_centrality`(G, C[, ...]): Compute the group betweenness centrality for a group of nodes.\n",
    "- `group_closeness_centrality`(G, S[, weight]): Compute the group closeness centrality for a group of nodes.\n",
    "- `group_degree_centrality`(G, S): Compute the group degree centrality for a group of nodes.\n",
    "- `group_in_degree_centrality`(G, S): Compute the group in-degree centrality for a group of nodes.\n",
    "- `group_out_degreee_centrality`(G, S): Compute the group out-degree cnetrality for a group of nodes.\n",
    "- `prominent_group`(G, k[, weight, C, ...]): Find the prominent group of size $k$ in graph $G$."
   ]
  }
 ],
 "metadata": {
  "kernelspec": {
   "display_name": "Python 3.9.6 64-bit",
   "language": "python",
   "name": "python3"
  },
  "language_info": {
   "name": "python",
   "version": "3.9.6"
  },
  "orig_nbformat": 4,
  "vscode": {
   "interpreter": {
    "hash": "116e0bc72a1820dee7c1d3f3e708778f7416cc41eb6b2ea33b8e8b62fc39e31e"
   }
  }
 },
 "nbformat": 4,
 "nbformat_minor": 2
}
