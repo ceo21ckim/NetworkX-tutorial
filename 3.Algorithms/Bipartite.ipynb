{
 "cells": [
  {
   "cell_type": "markdown",
   "metadata": {},
   "source": [
    "## Bipartite \n",
    "\n",
    "`Bipartite` 모듈은 이분 그래프를 위한 함수와 연산자를 제공합니다. 이분 그래프는 `B = (U, V, E)` 즉, `U, V` 두 노드의 집합과 `E` 에지 집합으로 구성되어 있습니다. "
   ]
  },
  {
   "cell_type": "code",
   "execution_count": 2,
   "metadata": {},
   "outputs": [],
   "source": [
    "import networkx as nx \n",
    "from networkx.algorithms import bipartite"
   ]
  },
  {
   "cell_type": "code",
   "execution_count": 3,
   "metadata": {},
   "outputs": [],
   "source": [
    "B = nx.Graph()\n",
    "# Add nodes with the node attribute \"bipartite\"\n",
    "B.add_nodes_from([1, 2, 3, 4], bipartite=0)\n",
    "B.add_nodes_from([\"a\", \"b\", \"c\"], bipartite=1)\n",
    "# Add edges only between nodes of opposite node sets\n",
    "B.add_edges_from([(1, 'a'), (1, 'b'), (2, 'b'), (2, 'c'), (3, 'c'), (4, 'a')])"
   ]
  },
  {
   "cell_type": "code",
   "execution_count": 18,
   "metadata": {},
   "outputs": [
    {
     "data": {
      "image/png": "[encoded data removed]",
      "text/plain": [
       "<Figure size 432x288 with 1 Axes>"
      ]
     },
     "metadata": {},
     "output_type": "display_data"
    }
   ],
   "source": [
    "X, Y = nx.bipartite.sets(B)\n",
    "pos = dict()\n",
    "pos.update( (n, (1, i)) for i, n in enumerate(X))\n",
    "pos.update( (n, (2, i)) for i, n in enumerate(Y))\n",
    "nx.draw(B, pos=pos)"
   ]
  },
  {
   "cell_type": "code",
   "execution_count": 19,
   "metadata": {},
   "outputs": [],
   "source": [
    "nx.is_connected(B) # True \n",
    "bottom_nodes, top_nodes = bipartite.sets(B)"
   ]
  },
  {
   "cell_type": "code",
   "execution_count": 20,
   "metadata": {},
   "outputs": [],
   "source": [
    "# 노드들이 연결되어 있지 않는 경우에는 노드에 색상을 지정해두어서 사용할 수 있습니다. \n",
    "top_nodes = {n for n, d in B.nodes(data=True) if d['bipartite']==0}\n",
    "bottom_nodes = set(B) - top_nodes # bipartite=0으로 지정한 노드들은 top_nodes로 지정하고 아닌 노드는 bottom_nodes로 지정합니다. "
   ]
  },
  {
   "cell_type": "code",
   "execution_count": 21,
   "metadata": {},
   "outputs": [
    {
     "name": "stdout",
     "output_type": "stream",
     "text": [
      "0.5\n"
     ]
    }
   ],
   "source": [
    "print(round(bipartite.density(B, bottom_nodes), 2)) # 0.5 \n",
    "G = bipartite.projected_graph(B, top_nodes)"
   ]
  },
  {
   "cell_type": "code",
   "execution_count": 23,
   "metadata": {},
   "outputs": [
    {
     "data": {
      "text/plain": [
       "[5, 6, 7, 8, 9, 10, 11]"
      ]
     },
     "execution_count": 23,
     "metadata": {},
     "output_type": "execute_result"
    }
   ],
   "source": [
    "RB = bipartite.random_graph(5, 7, 0.2)\n",
    "RB_top = {n for n, d in RB.nodes(data=True) if  d['bipartite']==0}\n",
    "RB_bottom = set(RB) - RB_top \n",
    "list(RB_top) # [1, 2, 3, 4]\n",
    "\n",
    "list(RB_bottom) # [5, 6, 7, 8, 9, 10, 11]"
   ]
  },
  {
   "cell_type": "markdown",
   "metadata": {},
   "source": [
    "## Basic functions \n",
    "\n",
    "- `is_bipartite`(G): Returns True if graph G is bipartite, False if not.\n",
    "- `is_bipartite_node_set`(G, nodes): Returns True if nodes and G/nodes are a bipartition of G.\n",
    "- `sets`(G[, top_nodes]): Returns bipartite node sets of graph G.\n",
    "- `color`(G): Returns a two-coloring of the graph.\n",
    "- `density`(B, nodes): Returns density of bipartite graph B.\n",
    "- `degrees`(B, nodes[, weight]): Returns the degrees of the two node sets in teh bipartite graph B.\n",
    "- `generate_edgelist`(G[, delimiter, data]): Generate a single line of the bipartite graph G in edge list format.\n",
    "- `write_edgelist`(G, path[, comments, ...]): Write a bipartite graph as a list of edges.\n",
    "- `parse_edgelist`(lines[, comments, delimiter, ...]): Parse lines of an edge list representation of a bipartite graph.\n",
    "- `read_edgelist`(path[, comments, delimiter, ...]): Read a bipartite graph from a list of edges.\n",
    "\n",
    "## Matching"
   ]
  },
  {
   "cell_type": "code",
   "execution_count": 27,
   "metadata": {},
   "outputs": [
    {
     "data": {
      "text/plain": [
       "{0: 2, 1: 3, 2: 0, 3: 1}"
      ]
     },
     "execution_count": 27,
     "metadata": {},
     "output_type": "execute_result"
    }
   ],
   "source": [
    "G = nx.complete_bipartite_graph(2, 3)\n",
    "left, right = nx.bipartite.sets(G)\n",
    "list(left) # [0, 1]\n",
    "list(right) # [2, 3, 4]\n",
    "\n",
    "nx.bipartite.maximum_matching(G)\n",
    "# {0:2, 1:3, 2:0, 3:1}"
   ]
  },
  {
   "cell_type": "markdown",
   "metadata": {},
   "source": [
    "- `eppstein_matching`(G[, top_nodes]): Returns the maximum cardinality matching of the bipartite graph `G`.\n",
    "- `hopcroft_karp_matching`(G[, top_nodes]): Returns the maximum cardinality matching of the bipartite graph `G`.\n",
    "- `to_vertext_cover`(G, matching[, top_nodes]): Returns the minimum vertext cover corresponding to the given maximum matching of the bipartite graph `G`.\n",
    "- `maximum_matching`(G[, top_nodes]): Returns the maximum cardinality matching in the given bipartite graph.\n",
    "- `minimum_weight_full_matching`(G[, top_nodes, ...]): Returns a minimum weight full matching of the bipartite graph `G`.\n",
    "\n",
    "## Matrix \n",
    "\n",
    "- `biadjacency_matrix`(G, row_order[, ...]): Returns the biadjacency matrix of the bipartite graph G.\n",
    "- `from_biadjacency_matrix`(A[, create_using, ...]): Creates a new bipartite graph from a biadjacency matrix given as a SciPy sparse matrix.\n",
    "\n",
    "## Projections\n",
    "\n",
    "- `projected_graph`(B, nodes[, multigraph]): Returns the projection of B onto one of ist node sets.\n",
    "- `weighted_projected_graph`(B, nodes[, ratio]): Returns a weighted projection of B onto one of its node sets.\n",
    "- `collaboration_weighted_projected_graph`(B, nodes): Newman's weighted projection of B onto one of ist node sets.\n",
    "- `overlap_weighted_projected_graph`(B, nodes[, ...]): Overlap weighted projection of B onto one of its node sets.\n",
    "- `generic_weighted_projected_graph`(B, nodes[, ...]): Weighted projection of B with a user-specified weight function.\n",
    "\n",
    "## Spectral \n",
    "\n",
    "- `spectral_bipartivity`(G[, nodes, weight]): Returns the spectral bipartivity.\n",
    "\n",
    "\n",
    "## Clustering \n",
    "\n",
    "- `clustering`(G[, nodes, mode]): Compute a bipartite clustering coefficient for nodes.\n",
    "- `average_clustering`(G[, nodes, mode]): Compute the average bipartite clustering coefficient.\n",
    "- `latapy_clustering`(G[, nodes, mode]): Compute a bipartite clustering coefficient for nodes.\n",
    "- `robins_alexander_clustering`(G): Compute the bipartite clustering of G.\n",
    "\n",
    "## Redundancy \n",
    "\n",
    "- `node_redundancy`(G[, nodes]): Computes the node redundancy coefficient for the nodes in the bipartite graph `G`.\n",
    "\n",
    "## Centrality \n",
    "\n",
    "- `closeness_centrality`(G, nodes[, normalized]): Compute the closeness centrality for nodes in a bipartite network.\n",
    "- `degree_centrality`(G, nodes): Compute the degree centrality for nodes in a bipartite network.\n",
    "- `betweenness_centrality`(G, nodes): Compute betweenness centrality for nodes in a bipartite network.\n",
    "\n",
    "## Generators\n",
    "\n",
    "- `complete_bipartite_graph`(n1, n2[, create_using]): Returns the complete bipartite graph `K_{n_1, n_2}`.\n",
    "- `configuration_model`(aseq, bseq[, ...]): Returns a random bipartite graph from two given degree sequences. \n",
    "- `bavel_hakimi_graph`(aseq, bseq[, create_using]): Return a bipartite graph from tow given degree sequences using a Havel-Hakimi style construction.\n",
    "- `reverse_havel_hakimi_graph`(aseq, bseq[, ...]): Return a bipartite graph from two given degree sequences using a Havel-Hakimi style construction.\n",
    "- `alternating_havel_hakimi_graph`(aseq,bseq[, ...]): Returns a bipartite greaph from two given degree sequences using an alternating Havel-Hakimi style construction.\n",
    "- `preferential_attachment_graph`(aseq, p[, ...]): Create a bipartite graph with a preferential attachment model from a given single degree sequence.\n",
    "- `ramdom_graph`(n, m, p[, seed, directed]): Returns a bipartite random graph.\n",
    "- `gnmk_random_graph`(n, m, k[, seed, directed]): Returns a random bipartite graph G_{n, m, k}\n",
    "\n",
    "## Covering \n",
    "\n",
    "- `min_edge_cover`(G[, matching_algorithm]): Returns a set of edges which constitutes the minimum edge cover of the graph."
   ]
  }
 ],
 "metadata": {
  "kernelspec": {
   "display_name": "Python 3.10.4 ('dgl')",
   "language": "python",
   "name": "python3"
  },
  "language_info": {
   "codemirror_mode": {
    "name": "ipython",
    "version": 3
   },
   "file_extension": ".py",
   "mimetype": "text/x-python",
   "name": "python",
   "nbconvert_exporter": "python",
   "pygments_lexer": "ipython3",
   "version": "3.10.4"
  },
  "orig_nbformat": 4,
  "vscode": {
   "interpreter": {
    "hash": "91f4586c667beba9fc73d5e38cfe2361778c9000e218f655761c33977cb8e239"
   }
  }
 },
 "nbformat": 4,
 "nbformat_minor": 2
}
