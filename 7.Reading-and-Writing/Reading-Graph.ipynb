{
 "cells": [
  {
   "cell_type": "markdown",
   "metadata": {},
   "source": [
    "## Adjacency List \n",
    "\n",
    "- `read_adjlist`(path[, comments, delimiter, ...]): Read graph in adjacency list format from path."
   ]
  },
  {
   "cell_type": "code",
   "execution_count": 1,
   "metadata": {},
   "outputs": [],
   "source": [
    "import networkx as nx \n",
    "\n",
    "G = nx.path_graph(4)\n",
    "nx.write_adjlist(G, \"test.adjlist\")\n",
    "G = nx.read_adjlist(\"test.adjlist\")"
   ]
  },
  {
   "cell_type": "code",
   "execution_count": 3,
   "metadata": {},
   "outputs": [],
   "source": [
    "fh = open(\"test.adjlist\", \"rb\")\n",
    "G = nx.read_adjlist(fh)"
   ]
  },
  {
   "cell_type": "code",
   "execution_count": 4,
   "metadata": {},
   "outputs": [],
   "source": [
    "nx.write_adjlist(G, \"test.adjlist.gz\")\n",
    "G = nx.read_adjlist(\"test.adjlist.gz\")"
   ]
  },
  {
   "cell_type": "code",
   "execution_count": 5,
   "metadata": {},
   "outputs": [],
   "source": [
    "G = nx.read_adjlist(\"test.adjlist\", nodetype=int)"
   ]
  },
  {
   "cell_type": "code",
   "execution_count": 6,
   "metadata": {},
   "outputs": [],
   "source": [
    "G = nx.read_adjlist(\"test.adjlist\", create_using=nx.DiGraph)"
   ]
  },
  {
   "cell_type": "markdown",
   "metadata": {},
   "source": [
    "- `read_multiline_adjlist`(path[, comments, ...]): Read graph in multi-line adjacency list format from path."
   ]
  },
  {
   "cell_type": "code",
   "execution_count": 7,
   "metadata": {},
   "outputs": [],
   "source": [
    "G = nx.path_graph(4)\n",
    "nx.write_multiline_adjlist(G, \"test.adjlist\")\n",
    "G = nx.read_multiline_adjlist(\"test.adjlist\")"
   ]
  },
  {
   "cell_type": "code",
   "execution_count": 8,
   "metadata": {},
   "outputs": [],
   "source": [
    "fh = open(\"test.adjlist\", \"rb\")\n",
    "G = nx.read_multiline_adjlist(fh)"
   ]
  },
  {
   "cell_type": "code",
   "execution_count": 9,
   "metadata": {},
   "outputs": [],
   "source": [
    "nx.write_multiline_adjlist(G, \"test.adjlist.gz\")\n",
    "G = nx.read_multiline_adjlist(\"test.adjlist.gz\")"
   ]
  },
  {
   "cell_type": "code",
   "execution_count": 10,
   "metadata": {},
   "outputs": [],
   "source": [
    "G = nx.read_multiline_adjlist(\"test.adjlist\", nodetype=int)"
   ]
  },
  {
   "cell_type": "code",
   "execution_count": 11,
   "metadata": {},
   "outputs": [],
   "source": [
    "G = nx.read_multiline_adjlist(\"test.adjlist\")"
   ]
  },
  {
   "cell_type": "code",
   "execution_count": 12,
   "metadata": {},
   "outputs": [],
   "source": [
    "G = nx.read_multiline_adjlist(\"test.adjlist\", create_using=nx.DiGraph)"
   ]
  },
  {
   "cell_type": "markdown",
   "metadata": {},
   "source": [
    "## Edge List\n",
    "\n",
    "- `read_edgelist`(path[, comments, delimiter, ...]): Read a graph from a list of edges.\n",
    "- `read_weighted_edgelist`(path, comments, ...): Read a graph as list of edges with numeric weights."
   ]
  },
  {
   "cell_type": "code",
   "execution_count": null,
   "metadata": {},
   "outputs": [],
   "source": [
    "nx.write_edgelist(nx.path_graph(4), \"test.edgelist\")\n",
    "G = nx.read_edgelist(\"test.edgelist\")"
   ]
  },
  {
   "cell_type": "code",
   "execution_count": null,
   "metadata": {},
   "outputs": [],
   "source": [
    "fh = open(\"test.edgelist\", \"rb\")\n",
    "G = nx.read_edgelist(fh)\n",
    "fh.close()"
   ]
  },
  {
   "cell_type": "code",
   "execution_count": null,
   "metadata": {},
   "outputs": [],
   "source": [
    "G = nx.read_edgelist(\"test.edgelist\", nodetype=int)\n",
    "G = nx.read_edgelist(\"test.edgelist\", create_using=nx.DiGraph)"
   ]
  },
  {
   "cell_type": "code",
   "execution_count": null,
   "metadata": {},
   "outputs": [],
   "source": [
    "textline = \"1 2 3\"\n",
    "fh = open(\"test.edgelist\", \"w\")\n",
    "d = fh.write(textline)\n",
    "fh.close()\n",
    "G = nx.read_edgelist(\"test.edgelist\", nodetype=int, data=((\"weight\", float),))\n",
    "list(G)"
   ]
  },
  {
   "cell_type": "markdown",
   "metadata": {},
   "source": [
    "## Pickle\n",
    "\n",
    "- `read_gpickle`(path): Read graph object in Python pickle format."
   ]
  },
  {
   "cell_type": "code",
   "execution_count": null,
   "metadata": {},
   "outputs": [],
   "source": [
    "G = nx.path_graph(4)\n",
    "nx.write_gpickle(G, \"test.gpickle\")\n",
    "G = nx.read_gpickle(\"test.gpickle\")"
   ]
  },
  {
   "cell_type": "markdown",
   "metadata": {},
   "source": [
    "## JSON\n",
    "\n",
    "- `node_link_data`(G[, attrs, source, target, ...]): Returns data in node-link format that is suitable for JSON serialization and use in Javascript documents.\n",
    "- `node_link_graph`(data[, directed, ...]): Returns graph from node-link data format.\n",
    "- `adjacency_data`(G[, attrs]): Returns data in adjacency format that is suitable for JSON serialization and use in Javascript documents.\n",
    "- `adjacency_graph`(data[, directed, ...]): Returns graph from adjacency data format."
   ]
  },
  {
   "cell_type": "markdown",
   "metadata": {},
   "source": [
    "## Pajek\n",
    "\n",
    "- `read_pajek`(path[, encoding]): Read graph in Pajek format path."
   ]
  },
  {
   "cell_type": "code",
   "execution_count": null,
   "metadata": {},
   "outputs": [],
   "source": [
    "G = nx.path_graph(4)\n",
    "nx.write_pajek(G, \"test.net\")\n",
    "G = nx.read_pajek(\"test.net\")"
   ]
  },
  {
   "cell_type": "code",
   "execution_count": null,
   "metadata": {},
   "outputs": [],
   "source": [
    "G1 = nx.Graph(G)"
   ]
  },
  {
   "cell_type": "markdown",
   "metadata": {},
   "source": [
    "\n",
    "## GIS Shapefile \n",
    "\n",
    "- `read_shp`(path[, simplify, geom_attrs, strict]): Generates a networkx.DiGraph from shapefiles."
   ]
  }
 ],
 "metadata": {
  "kernelspec": {
   "display_name": "Python 3.9.6 64-bit",
   "language": "python",
   "name": "python3"
  },
  "language_info": {
   "codemirror_mode": {
    "name": "ipython",
    "version": 3
   },
   "file_extension": ".py",
   "mimetype": "text/x-python",
   "name": "python",
   "nbconvert_exporter": "python",
   "pygments_lexer": "ipython3",
   "version": "3.9.6"
  },
  "orig_nbformat": 4,
  "vscode": {
   "interpreter": {
    "hash": "116e0bc72a1820dee7c1d3f3e708778f7416cc41eb6b2ea33b8e8b62fc39e31e"
   }
  }
 },
 "nbformat": 4,
 "nbformat_minor": 2
}
