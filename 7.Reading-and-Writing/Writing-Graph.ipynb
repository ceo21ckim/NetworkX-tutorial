{
 "cells": [
  {
   "cell_type": "markdown",
   "metadata": {},
   "source": [
    "## Adjacency List \n",
    "\n",
    "- `write_adjlist`(G, path[, comments, ...]): Write graph G in single-line adjacency-list format to path."
   ]
  },
  {
   "cell_type": "code",
   "execution_count": 1,
   "metadata": {},
   "outputs": [],
   "source": [
    "import networkx as nx \n",
    "\n",
    "G = nx.path_graph(4)\n",
    "nx.write_adjlist(G, \"test.adjlist\")"
   ]
  },
  {
   "cell_type": "code",
   "execution_count": 3,
   "metadata": {},
   "outputs": [],
   "source": [
    "fh = open(\"test.adjlist\", \"wb\")\n",
    "nx.write_adjlist(G, fh)"
   ]
  },
  {
   "cell_type": "markdown",
   "metadata": {},
   "source": [
    "- `write_multiline_adjlist`(G, path[, ...]): Write the graph G in multiline adjacency list format to path "
   ]
  },
  {
   "cell_type": "code",
   "execution_count": 2,
   "metadata": {},
   "outputs": [],
   "source": [
    "G = nx.path_graph(4)\n",
    "nx.write_multiline_adjlist(G, 'test.adjlist')"
   ]
  },
  {
   "cell_type": "code",
   "execution_count": 3,
   "metadata": {},
   "outputs": [],
   "source": [
    "fh = open(\"test.adjlist\", \"wb\")\n",
    "nx.write_multiline_adjlist(G, fh)"
   ]
  },
  {
   "cell_type": "code",
   "execution_count": 4,
   "metadata": {},
   "outputs": [],
   "source": [
    "nx.write_multiline_adjlist(G, \"test.adjlist.gz\")"
   ]
  },
  {
   "cell_type": "markdown",
   "metadata": {},
   "source": [
    "## Edge List \n",
    "\n",
    "- `write_edgelist`(G, path[, comments, ...]): Write graph as a list of edges."
   ]
  },
  {
   "cell_type": "code",
   "execution_count": 5,
   "metadata": {},
   "outputs": [],
   "source": [
    "G = nx.path_graph(4)\n",
    "nx.write_edgelist(G, \"test.edgelist\")\n",
    "G = nx.path_graph(4)\n",
    "fh = open(\"test.edgelist\", \"wb\")\n",
    "nx.write_edgelist(G, fh)\n",
    "nx.write_edgelist(G, \"test.edgelist.gz\")\n",
    "nx.write_edgelist(G, \"test.edgelist.gz\", data=False)"
   ]
  },
  {
   "cell_type": "code",
   "execution_count": 6,
   "metadata": {},
   "outputs": [],
   "source": [
    "G = nx.Graph()\n",
    "G.add_edge(1, 2, weight=7, color=\"red\")\n",
    "nx.write_edgelist(G, \"test.edgelist\", data=False)\n",
    "nx.write_edgelist(G, \"test.edgelist\", data=[\"color\"])\n",
    "nx.write_edgelist(G, \"test.edgelist\", data=[\"color\", \"weight\"])"
   ]
  },
  {
   "cell_type": "markdown",
   "metadata": {},
   "source": [
    "## Pickle\n",
    "\n",
    "- `write_gpickle`(G, path[, protocol]): Write graph in Python pickle format."
   ]
  },
  {
   "cell_type": "code",
   "execution_count": null,
   "metadata": {},
   "outputs": [],
   "source": [
    "G = nx.path_graph(4)\n",
    "nx.write_gpickle(G, \"test.gpickle\")"
   ]
  },
  {
   "cell_type": "markdown",
   "metadata": {},
   "source": [
    "## Pajek \n",
    "\n",
    "- `write_pajek`(G, path[, encoding]): Write graph in Pajek format to path."
   ]
  },
  {
   "cell_type": "code",
   "execution_count": 7,
   "metadata": {},
   "outputs": [],
   "source": [
    "G = nx.path_graph(4)\n",
    "nx.write_pajek(G, \"test.net\")"
   ]
  },
  {
   "cell_type": "markdown",
   "metadata": {},
   "source": [
    "## GIS Shapefile\n",
    "\n",
    "- `write_shp`(G, outdir): Writes a networkx.DiGraph to tow shapefiles, edges and nodes."
   ]
  }
 ],
 "metadata": {
  "kernelspec": {
   "display_name": "Python 3.9.6 64-bit",
   "language": "python",
   "name": "python3"
  },
  "language_info": {
   "codemirror_mode": {
    "name": "ipython",
    "version": 3
   },
   "file_extension": ".py",
   "mimetype": "text/x-python",
   "name": "python",
   "nbconvert_exporter": "python",
   "pygments_lexer": "ipython3",
   "version": "3.9.6"
  },
  "orig_nbformat": 4,
  "vscode": {
   "interpreter": {
    "hash": "116e0bc72a1820dee7c1d3f3e708778f7416cc41eb6b2ea33b8e8b62fc39e31e"
   }
  }
 },
 "nbformat": 4,
 "nbformat_minor": 2
}
